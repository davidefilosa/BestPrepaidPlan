{
 "cells": [
  {
   "cell_type": "markdown",
   "id": "364443a6",
   "metadata": {},
   "source": [
    "# Best Prepaid Plan for Telecom Operator Megaline\n"
   ]
  },
  {
   "cell_type": "markdown",
   "id": "e8b3e8f8",
   "metadata": {},
   "source": [
    "In this project I will carry out an analysis for a Megaline telecom operator. The company offers two prepaid plans, Surf and Ultimate. The aim of th project is to study the clients' behavior and determine which prepaid plan brings in more revenue. To do this, we have the data on 500 Megaline clients: who the clients are, where they're from, which plan they use, and the number of calls they made and text messages they sent in 2018.\n",
    "\n",
    "I am going to begin the analysis trying to understand the differences in the behavior of the customers of each plan. To do this I need to determine the minutes of calls, the messages and, the volume of data the users of each plan require per month and study their distribution.\n",
    "\n",
    "When I have the information about the customers´ monthly usage, I will be able to calculate the average revenu for the customers of each plan. I can then compare the two means to determine if there is a statistically significant difference between the two. To do this, I will formulate hypotheses and use the appropriate method to test them."
   ]
  },
  {
   "cell_type": "markdown",
   "id": "5bd8cc57",
   "metadata": {},
   "source": [
    "# Step 1: Open the data file and study the general information\n"
   ]
  },
  {
   "cell_type": "markdown",
   "id": "fe821324",
   "metadata": {},
   "source": [
    "Importing libraries and data"
   ]
  },
  {
   "cell_type": "code",
   "execution_count": 1,
   "id": "c15cf380",
   "metadata": {},
   "outputs": [],
   "source": [
    "import pandas as pd\n",
    "from scipy import stats as st\n",
    "import numpy as np\n",
    "import matplotlib.pyplot as plt\n",
    "import seaborn as sns\n",
    "\n"
   ]
  },
  {
   "cell_type": "markdown",
   "id": "35f6e068",
   "metadata": {},
   "source": [
    "General information, and preview of first/last five rows, description of datasets"
   ]
  },
  {
   "cell_type": "code",
   "execution_count": 2,
   "id": "fcd8ef35",
   "metadata": {},
   "outputs": [],
   "source": [
    "calls = pd.read_csv(\"datasets/megaline_calls.csv\")\n",
    "internet = pd.read_csv(\"datasets/megaline_internet.csv\")\n",
    "messages = pd.read_csv(\"datasets/megaline_messages.csv\")\n",
    "plans = pd.read_csv(\"datasets/megaline_plans.csv\")\n",
    "users = pd.read_csv(\"datasets/megaline_users.csv\")"
   ]
  },
  {
   "cell_type": "code",
   "execution_count": 3,
   "id": "3ac4cc9d",
   "metadata": {},
   "outputs": [
    {
     "data": {
      "text/html": [
       "<div>\n",
       "<style scoped>\n",
       "    .dataframe tbody tr th:only-of-type {\n",
       "        vertical-align: middle;\n",
       "    }\n",
       "\n",
       "    .dataframe tbody tr th {\n",
       "        vertical-align: top;\n",
       "    }\n",
       "\n",
       "    .dataframe thead th {\n",
       "        text-align: right;\n",
       "    }\n",
       "</style>\n",
       "<table border=\"1\" class=\"dataframe\">\n",
       "  <thead>\n",
       "    <tr style=\"text-align: right;\">\n",
       "      <th></th>\n",
       "      <th>user_id</th>\n",
       "      <th>first_name</th>\n",
       "      <th>last_name</th>\n",
       "      <th>age</th>\n",
       "      <th>city</th>\n",
       "      <th>reg_date</th>\n",
       "      <th>plan</th>\n",
       "      <th>churn_date</th>\n",
       "    </tr>\n",
       "  </thead>\n",
       "  <tbody>\n",
       "    <tr>\n",
       "      <th>0</th>\n",
       "      <td>1000</td>\n",
       "      <td>Anamaria</td>\n",
       "      <td>Bauer</td>\n",
       "      <td>45</td>\n",
       "      <td>Atlanta-Sandy Springs-Roswell, GA MSA</td>\n",
       "      <td>2018-12-24</td>\n",
       "      <td>ultimate</td>\n",
       "      <td>NaN</td>\n",
       "    </tr>\n",
       "    <tr>\n",
       "      <th>1</th>\n",
       "      <td>1001</td>\n",
       "      <td>Mickey</td>\n",
       "      <td>Wilkerson</td>\n",
       "      <td>28</td>\n",
       "      <td>Seattle-Tacoma-Bellevue, WA MSA</td>\n",
       "      <td>2018-08-13</td>\n",
       "      <td>surf</td>\n",
       "      <td>NaN</td>\n",
       "    </tr>\n",
       "    <tr>\n",
       "      <th>2</th>\n",
       "      <td>1002</td>\n",
       "      <td>Carlee</td>\n",
       "      <td>Hoffman</td>\n",
       "      <td>36</td>\n",
       "      <td>Las Vegas-Henderson-Paradise, NV MSA</td>\n",
       "      <td>2018-10-21</td>\n",
       "      <td>surf</td>\n",
       "      <td>NaN</td>\n",
       "    </tr>\n",
       "    <tr>\n",
       "      <th>3</th>\n",
       "      <td>1003</td>\n",
       "      <td>Reynaldo</td>\n",
       "      <td>Jenkins</td>\n",
       "      <td>52</td>\n",
       "      <td>Tulsa, OK MSA</td>\n",
       "      <td>2018-01-28</td>\n",
       "      <td>surf</td>\n",
       "      <td>NaN</td>\n",
       "    </tr>\n",
       "    <tr>\n",
       "      <th>4</th>\n",
       "      <td>1004</td>\n",
       "      <td>Leonila</td>\n",
       "      <td>Thompson</td>\n",
       "      <td>40</td>\n",
       "      <td>Seattle-Tacoma-Bellevue, WA MSA</td>\n",
       "      <td>2018-05-23</td>\n",
       "      <td>surf</td>\n",
       "      <td>NaN</td>\n",
       "    </tr>\n",
       "  </tbody>\n",
       "</table>\n",
       "</div>"
      ],
      "text/plain": [
       "   user_id first_name  last_name  age                                   city  \\\n",
       "0     1000   Anamaria      Bauer   45  Atlanta-Sandy Springs-Roswell, GA MSA   \n",
       "1     1001     Mickey  Wilkerson   28        Seattle-Tacoma-Bellevue, WA MSA   \n",
       "2     1002     Carlee    Hoffman   36   Las Vegas-Henderson-Paradise, NV MSA   \n",
       "3     1003   Reynaldo    Jenkins   52                          Tulsa, OK MSA   \n",
       "4     1004    Leonila   Thompson   40        Seattle-Tacoma-Bellevue, WA MSA   \n",
       "\n",
       "     reg_date      plan churn_date  \n",
       "0  2018-12-24  ultimate        NaN  \n",
       "1  2018-08-13      surf        NaN  \n",
       "2  2018-10-21      surf        NaN  \n",
       "3  2018-01-28      surf        NaN  \n",
       "4  2018-05-23      surf        NaN  "
      ]
     },
     "execution_count": 3,
     "metadata": {},
     "output_type": "execute_result"
    }
   ],
   "source": [
    "users.head()"
   ]
  },
  {
   "cell_type": "code",
   "execution_count": 4,
   "id": "901c8c79",
   "metadata": {},
   "outputs": [
    {
     "name": "stdout",
     "output_type": "stream",
     "text": [
      "<class 'pandas.core.frame.DataFrame'>\n",
      "RangeIndex: 500 entries, 0 to 499\n",
      "Data columns (total 8 columns):\n",
      " #   Column      Non-Null Count  Dtype \n",
      "---  ------      --------------  ----- \n",
      " 0   user_id     500 non-null    int64 \n",
      " 1   first_name  500 non-null    object\n",
      " 2   last_name   500 non-null    object\n",
      " 3   age         500 non-null    int64 \n",
      " 4   city        500 non-null    object\n",
      " 5   reg_date    500 non-null    object\n",
      " 6   plan        500 non-null    object\n",
      " 7   churn_date  34 non-null     object\n",
      "dtypes: int64(2), object(6)\n",
      "memory usage: 31.4+ KB\n"
     ]
    }
   ],
   "source": [
    "users.info()"
   ]
  },
  {
   "cell_type": "markdown",
   "id": "60aae68d",
   "metadata": {},
   "source": [
    "The dataframe `users` contains personal information of customers and more importantly the plan they use and their `user_id`. We have many missing values in the column `churn_date`, probably because the customer has not churned."
   ]
  },
  {
   "cell_type": "code",
   "execution_count": 5,
   "id": "6f7eda59",
   "metadata": {},
   "outputs": [
    {
     "data": {
      "text/html": [
       "<div>\n",
       "<style scoped>\n",
       "    .dataframe tbody tr th:only-of-type {\n",
       "        vertical-align: middle;\n",
       "    }\n",
       "\n",
       "    .dataframe tbody tr th {\n",
       "        vertical-align: top;\n",
       "    }\n",
       "\n",
       "    .dataframe thead th {\n",
       "        text-align: right;\n",
       "    }\n",
       "</style>\n",
       "<table border=\"1\" class=\"dataframe\">\n",
       "  <thead>\n",
       "    <tr style=\"text-align: right;\">\n",
       "      <th></th>\n",
       "      <th>id</th>\n",
       "      <th>user_id</th>\n",
       "      <th>call_date</th>\n",
       "      <th>duration</th>\n",
       "    </tr>\n",
       "  </thead>\n",
       "  <tbody>\n",
       "    <tr>\n",
       "      <th>0</th>\n",
       "      <td>1000_93</td>\n",
       "      <td>1000</td>\n",
       "      <td>2018-12-27</td>\n",
       "      <td>8.52</td>\n",
       "    </tr>\n",
       "    <tr>\n",
       "      <th>1</th>\n",
       "      <td>1000_145</td>\n",
       "      <td>1000</td>\n",
       "      <td>2018-12-27</td>\n",
       "      <td>13.66</td>\n",
       "    </tr>\n",
       "    <tr>\n",
       "      <th>2</th>\n",
       "      <td>1000_247</td>\n",
       "      <td>1000</td>\n",
       "      <td>2018-12-27</td>\n",
       "      <td>14.48</td>\n",
       "    </tr>\n",
       "    <tr>\n",
       "      <th>3</th>\n",
       "      <td>1000_309</td>\n",
       "      <td>1000</td>\n",
       "      <td>2018-12-28</td>\n",
       "      <td>5.76</td>\n",
       "    </tr>\n",
       "    <tr>\n",
       "      <th>4</th>\n",
       "      <td>1000_380</td>\n",
       "      <td>1000</td>\n",
       "      <td>2018-12-30</td>\n",
       "      <td>4.22</td>\n",
       "    </tr>\n",
       "  </tbody>\n",
       "</table>\n",
       "</div>"
      ],
      "text/plain": [
       "         id  user_id   call_date  duration\n",
       "0   1000_93     1000  2018-12-27      8.52\n",
       "1  1000_145     1000  2018-12-27     13.66\n",
       "2  1000_247     1000  2018-12-27     14.48\n",
       "3  1000_309     1000  2018-12-28      5.76\n",
       "4  1000_380     1000  2018-12-30      4.22"
      ]
     },
     "execution_count": 5,
     "metadata": {},
     "output_type": "execute_result"
    }
   ],
   "source": [
    "calls.head()"
   ]
  },
  {
   "cell_type": "code",
   "execution_count": 6,
   "id": "141c1823",
   "metadata": {},
   "outputs": [
    {
     "name": "stdout",
     "output_type": "stream",
     "text": [
      "<class 'pandas.core.frame.DataFrame'>\n",
      "RangeIndex: 137735 entries, 0 to 137734\n",
      "Data columns (total 4 columns):\n",
      " #   Column     Non-Null Count   Dtype  \n",
      "---  ------     --------------   -----  \n",
      " 0   id         137735 non-null  object \n",
      " 1   user_id    137735 non-null  int64  \n",
      " 2   call_date  137735 non-null  object \n",
      " 3   duration   137735 non-null  float64\n",
      "dtypes: float64(1), int64(1), object(2)\n",
      "memory usage: 4.2+ MB\n"
     ]
    }
   ],
   "source": [
    "calls.info()"
   ]
  },
  {
   "cell_type": "code",
   "execution_count": 7,
   "id": "04a44aff",
   "metadata": {},
   "outputs": [
    {
     "data": {
      "text/plain": [
       "count    137735.000000\n",
       "mean          6.745927\n",
       "std           5.839241\n",
       "min           0.000000\n",
       "25%           1.290000\n",
       "50%           5.980000\n",
       "75%          10.690000\n",
       "max          37.600000\n",
       "Name: duration, dtype: float64"
      ]
     },
     "execution_count": 7,
     "metadata": {},
     "output_type": "execute_result"
    }
   ],
   "source": [
    "calls['duration'].describe()"
   ]
  },
  {
   "cell_type": "markdown",
   "id": "87615b39",
   "metadata": {},
   "source": [
    "The dataframe `calls` contains all the individual calls, the date when they were made, their duration and, the user that made it. The minimum duration of the calls is 0 seconds (maybe unanswered calls) while the call with the longest duration is just over 37 minutes."
   ]
  },
  {
   "cell_type": "code",
   "execution_count": 8,
   "id": "ed10b3f7",
   "metadata": {},
   "outputs": [
    {
     "data": {
      "text/html": [
       "<div>\n",
       "<style scoped>\n",
       "    .dataframe tbody tr th:only-of-type {\n",
       "        vertical-align: middle;\n",
       "    }\n",
       "\n",
       "    .dataframe tbody tr th {\n",
       "        vertical-align: top;\n",
       "    }\n",
       "\n",
       "    .dataframe thead th {\n",
       "        text-align: right;\n",
       "    }\n",
       "</style>\n",
       "<table border=\"1\" class=\"dataframe\">\n",
       "  <thead>\n",
       "    <tr style=\"text-align: right;\">\n",
       "      <th></th>\n",
       "      <th>id</th>\n",
       "      <th>user_id</th>\n",
       "      <th>session_date</th>\n",
       "      <th>mb_used</th>\n",
       "    </tr>\n",
       "  </thead>\n",
       "  <tbody>\n",
       "    <tr>\n",
       "      <th>0</th>\n",
       "      <td>1000_13</td>\n",
       "      <td>1000</td>\n",
       "      <td>2018-12-29</td>\n",
       "      <td>89.86</td>\n",
       "    </tr>\n",
       "    <tr>\n",
       "      <th>1</th>\n",
       "      <td>1000_204</td>\n",
       "      <td>1000</td>\n",
       "      <td>2018-12-31</td>\n",
       "      <td>0.00</td>\n",
       "    </tr>\n",
       "    <tr>\n",
       "      <th>2</th>\n",
       "      <td>1000_379</td>\n",
       "      <td>1000</td>\n",
       "      <td>2018-12-28</td>\n",
       "      <td>660.40</td>\n",
       "    </tr>\n",
       "    <tr>\n",
       "      <th>3</th>\n",
       "      <td>1000_413</td>\n",
       "      <td>1000</td>\n",
       "      <td>2018-12-26</td>\n",
       "      <td>270.99</td>\n",
       "    </tr>\n",
       "    <tr>\n",
       "      <th>4</th>\n",
       "      <td>1000_442</td>\n",
       "      <td>1000</td>\n",
       "      <td>2018-12-27</td>\n",
       "      <td>880.22</td>\n",
       "    </tr>\n",
       "  </tbody>\n",
       "</table>\n",
       "</div>"
      ],
      "text/plain": [
       "         id  user_id session_date  mb_used\n",
       "0   1000_13     1000   2018-12-29    89.86\n",
       "1  1000_204     1000   2018-12-31     0.00\n",
       "2  1000_379     1000   2018-12-28   660.40\n",
       "3  1000_413     1000   2018-12-26   270.99\n",
       "4  1000_442     1000   2018-12-27   880.22"
      ]
     },
     "execution_count": 8,
     "metadata": {},
     "output_type": "execute_result"
    }
   ],
   "source": [
    "internet.head()"
   ]
  },
  {
   "cell_type": "code",
   "execution_count": 9,
   "id": "ac8edef2",
   "metadata": {},
   "outputs": [
    {
     "name": "stdout",
     "output_type": "stream",
     "text": [
      "<class 'pandas.core.frame.DataFrame'>\n",
      "RangeIndex: 104825 entries, 0 to 104824\n",
      "Data columns (total 4 columns):\n",
      " #   Column        Non-Null Count   Dtype  \n",
      "---  ------        --------------   -----  \n",
      " 0   id            104825 non-null  object \n",
      " 1   user_id       104825 non-null  int64  \n",
      " 2   session_date  104825 non-null  object \n",
      " 3   mb_used       104825 non-null  float64\n",
      "dtypes: float64(1), int64(1), object(2)\n",
      "memory usage: 3.2+ MB\n"
     ]
    }
   ],
   "source": [
    "internet.info()"
   ]
  },
  {
   "cell_type": "code",
   "execution_count": 10,
   "id": "89b6cafb",
   "metadata": {},
   "outputs": [
    {
     "data": {
      "text/plain": [
       "count    104825.000000\n",
       "mean        366.713701\n",
       "std         277.170542\n",
       "min           0.000000\n",
       "25%         136.080000\n",
       "50%         343.980000\n",
       "75%         554.610000\n",
       "max        1693.470000\n",
       "Name: mb_used, dtype: float64"
      ]
     },
     "execution_count": 10,
     "metadata": {},
     "output_type": "execute_result"
    }
   ],
   "source": [
    "internet['mb_used'].describe()"
   ]
  },
  {
   "cell_type": "markdown",
   "id": "d8b9827a",
   "metadata": {},
   "source": [
    "The dataframe `internet` contains all the individual web session, the date when it was made, the duration and, the user that made it. The MegaBytes used for web sessions have a range from 0 to 1693.47 MB."
   ]
  },
  {
   "cell_type": "code",
   "execution_count": 11,
   "id": "529ba127",
   "metadata": {},
   "outputs": [
    {
     "data": {
      "text/html": [
       "<div>\n",
       "<style scoped>\n",
       "    .dataframe tbody tr th:only-of-type {\n",
       "        vertical-align: middle;\n",
       "    }\n",
       "\n",
       "    .dataframe tbody tr th {\n",
       "        vertical-align: top;\n",
       "    }\n",
       "\n",
       "    .dataframe thead th {\n",
       "        text-align: right;\n",
       "    }\n",
       "</style>\n",
       "<table border=\"1\" class=\"dataframe\">\n",
       "  <thead>\n",
       "    <tr style=\"text-align: right;\">\n",
       "      <th></th>\n",
       "      <th>id</th>\n",
       "      <th>user_id</th>\n",
       "      <th>message_date</th>\n",
       "    </tr>\n",
       "  </thead>\n",
       "  <tbody>\n",
       "    <tr>\n",
       "      <th>0</th>\n",
       "      <td>1000_125</td>\n",
       "      <td>1000</td>\n",
       "      <td>2018-12-27</td>\n",
       "    </tr>\n",
       "    <tr>\n",
       "      <th>1</th>\n",
       "      <td>1000_160</td>\n",
       "      <td>1000</td>\n",
       "      <td>2018-12-31</td>\n",
       "    </tr>\n",
       "    <tr>\n",
       "      <th>2</th>\n",
       "      <td>1000_223</td>\n",
       "      <td>1000</td>\n",
       "      <td>2018-12-31</td>\n",
       "    </tr>\n",
       "    <tr>\n",
       "      <th>3</th>\n",
       "      <td>1000_251</td>\n",
       "      <td>1000</td>\n",
       "      <td>2018-12-27</td>\n",
       "    </tr>\n",
       "    <tr>\n",
       "      <th>4</th>\n",
       "      <td>1000_255</td>\n",
       "      <td>1000</td>\n",
       "      <td>2018-12-26</td>\n",
       "    </tr>\n",
       "  </tbody>\n",
       "</table>\n",
       "</div>"
      ],
      "text/plain": [
       "         id  user_id message_date\n",
       "0  1000_125     1000   2018-12-27\n",
       "1  1000_160     1000   2018-12-31\n",
       "2  1000_223     1000   2018-12-31\n",
       "3  1000_251     1000   2018-12-27\n",
       "4  1000_255     1000   2018-12-26"
      ]
     },
     "execution_count": 11,
     "metadata": {},
     "output_type": "execute_result"
    }
   ],
   "source": [
    "messages.head()"
   ]
  },
  {
   "cell_type": "code",
   "execution_count": 12,
   "id": "e8b8bec4",
   "metadata": {},
   "outputs": [
    {
     "name": "stdout",
     "output_type": "stream",
     "text": [
      "<class 'pandas.core.frame.DataFrame'>\n",
      "RangeIndex: 76051 entries, 0 to 76050\n",
      "Data columns (total 3 columns):\n",
      " #   Column        Non-Null Count  Dtype \n",
      "---  ------        --------------  ----- \n",
      " 0   id            76051 non-null  object\n",
      " 1   user_id       76051 non-null  int64 \n",
      " 2   message_date  76051 non-null  object\n",
      "dtypes: int64(1), object(2)\n",
      "memory usage: 1.7+ MB\n"
     ]
    }
   ],
   "source": [
    "messages.info()"
   ]
  },
  {
   "cell_type": "markdown",
   "id": "39aec04b",
   "metadata": {},
   "source": [
    "The dataframe `messages` contains all the messages, the date when it was sent and, the user that sent it."
   ]
  },
  {
   "cell_type": "code",
   "execution_count": 13,
   "id": "6f4e8ff9",
   "metadata": {},
   "outputs": [
    {
     "data": {
      "text/html": [
       "<div>\n",
       "<style scoped>\n",
       "    .dataframe tbody tr th:only-of-type {\n",
       "        vertical-align: middle;\n",
       "    }\n",
       "\n",
       "    .dataframe tbody tr th {\n",
       "        vertical-align: top;\n",
       "    }\n",
       "\n",
       "    .dataframe thead th {\n",
       "        text-align: right;\n",
       "    }\n",
       "</style>\n",
       "<table border=\"1\" class=\"dataframe\">\n",
       "  <thead>\n",
       "    <tr style=\"text-align: right;\">\n",
       "      <th></th>\n",
       "      <th>messages_included</th>\n",
       "      <th>mb_per_month_included</th>\n",
       "      <th>minutes_included</th>\n",
       "      <th>usd_monthly_pay</th>\n",
       "      <th>usd_per_gb</th>\n",
       "      <th>usd_per_message</th>\n",
       "      <th>usd_per_minute</th>\n",
       "      <th>plan_name</th>\n",
       "    </tr>\n",
       "  </thead>\n",
       "  <tbody>\n",
       "    <tr>\n",
       "      <th>0</th>\n",
       "      <td>50</td>\n",
       "      <td>15360</td>\n",
       "      <td>500</td>\n",
       "      <td>20</td>\n",
       "      <td>10</td>\n",
       "      <td>0.03</td>\n",
       "      <td>0.03</td>\n",
       "      <td>surf</td>\n",
       "    </tr>\n",
       "    <tr>\n",
       "      <th>1</th>\n",
       "      <td>1000</td>\n",
       "      <td>30720</td>\n",
       "      <td>3000</td>\n",
       "      <td>70</td>\n",
       "      <td>7</td>\n",
       "      <td>0.01</td>\n",
       "      <td>0.01</td>\n",
       "      <td>ultimate</td>\n",
       "    </tr>\n",
       "  </tbody>\n",
       "</table>\n",
       "</div>"
      ],
      "text/plain": [
       "   messages_included  mb_per_month_included  minutes_included  \\\n",
       "0                 50                  15360               500   \n",
       "1               1000                  30720              3000   \n",
       "\n",
       "   usd_monthly_pay  usd_per_gb  usd_per_message  usd_per_minute plan_name  \n",
       "0               20          10             0.03            0.03      surf  \n",
       "1               70           7             0.01            0.01  ultimate  "
      ]
     },
     "execution_count": 13,
     "metadata": {},
     "output_type": "execute_result"
    }
   ],
   "source": [
    "plans.head()"
   ]
  },
  {
   "cell_type": "markdown",
   "id": "8a5cffdd",
   "metadata": {},
   "source": [
    "The dataframe `plans` contains all the information about the plans, the messages, the minutes, and the mb per month included in the plan, the price that the user have to pay if he exceeds the limit"
   ]
  },
  {
   "cell_type": "markdown",
   "id": "fdb22d9a",
   "metadata": {},
   "source": [
    "# Step 2: Preparing the data\n"
   ]
  },
  {
   "cell_type": "markdown",
   "id": "8b2ae717",
   "metadata": {},
   "source": [
    "We have see that the `[\"churn_date\"]` column contains missing values. I decided to drop the column because I am not going to need it for my analysis "
   ]
  },
  {
   "cell_type": "code",
   "execution_count": 14,
   "id": "bb73982d",
   "metadata": {},
   "outputs": [],
   "source": [
    "users = users.drop(columns = \"churn_date\")"
   ]
  },
  {
   "cell_type": "code",
   "execution_count": 15,
   "id": "0c711bdb",
   "metadata": {},
   "outputs": [
    {
     "data": {
      "text/html": [
       "<div>\n",
       "<style scoped>\n",
       "    .dataframe tbody tr th:only-of-type {\n",
       "        vertical-align: middle;\n",
       "    }\n",
       "\n",
       "    .dataframe tbody tr th {\n",
       "        vertical-align: top;\n",
       "    }\n",
       "\n",
       "    .dataframe thead th {\n",
       "        text-align: right;\n",
       "    }\n",
       "</style>\n",
       "<table border=\"1\" class=\"dataframe\">\n",
       "  <thead>\n",
       "    <tr style=\"text-align: right;\">\n",
       "      <th></th>\n",
       "      <th>user_id</th>\n",
       "      <th>first_name</th>\n",
       "      <th>last_name</th>\n",
       "      <th>age</th>\n",
       "      <th>city</th>\n",
       "      <th>reg_date</th>\n",
       "      <th>plan</th>\n",
       "    </tr>\n",
       "  </thead>\n",
       "  <tbody>\n",
       "    <tr>\n",
       "      <th>0</th>\n",
       "      <td>1000</td>\n",
       "      <td>Anamaria</td>\n",
       "      <td>Bauer</td>\n",
       "      <td>45</td>\n",
       "      <td>Atlanta-Sandy Springs-Roswell, GA MSA</td>\n",
       "      <td>2018-12-24</td>\n",
       "      <td>ultimate</td>\n",
       "    </tr>\n",
       "    <tr>\n",
       "      <th>1</th>\n",
       "      <td>1001</td>\n",
       "      <td>Mickey</td>\n",
       "      <td>Wilkerson</td>\n",
       "      <td>28</td>\n",
       "      <td>Seattle-Tacoma-Bellevue, WA MSA</td>\n",
       "      <td>2018-08-13</td>\n",
       "      <td>surf</td>\n",
       "    </tr>\n",
       "    <tr>\n",
       "      <th>2</th>\n",
       "      <td>1002</td>\n",
       "      <td>Carlee</td>\n",
       "      <td>Hoffman</td>\n",
       "      <td>36</td>\n",
       "      <td>Las Vegas-Henderson-Paradise, NV MSA</td>\n",
       "      <td>2018-10-21</td>\n",
       "      <td>surf</td>\n",
       "    </tr>\n",
       "    <tr>\n",
       "      <th>3</th>\n",
       "      <td>1003</td>\n",
       "      <td>Reynaldo</td>\n",
       "      <td>Jenkins</td>\n",
       "      <td>52</td>\n",
       "      <td>Tulsa, OK MSA</td>\n",
       "      <td>2018-01-28</td>\n",
       "      <td>surf</td>\n",
       "    </tr>\n",
       "    <tr>\n",
       "      <th>4</th>\n",
       "      <td>1004</td>\n",
       "      <td>Leonila</td>\n",
       "      <td>Thompson</td>\n",
       "      <td>40</td>\n",
       "      <td>Seattle-Tacoma-Bellevue, WA MSA</td>\n",
       "      <td>2018-05-23</td>\n",
       "      <td>surf</td>\n",
       "    </tr>\n",
       "  </tbody>\n",
       "</table>\n",
       "</div>"
      ],
      "text/plain": [
       "   user_id first_name  last_name  age                                   city  \\\n",
       "0     1000   Anamaria      Bauer   45  Atlanta-Sandy Springs-Roswell, GA MSA   \n",
       "1     1001     Mickey  Wilkerson   28        Seattle-Tacoma-Bellevue, WA MSA   \n",
       "2     1002     Carlee    Hoffman   36   Las Vegas-Henderson-Paradise, NV MSA   \n",
       "3     1003   Reynaldo    Jenkins   52                          Tulsa, OK MSA   \n",
       "4     1004    Leonila   Thompson   40        Seattle-Tacoma-Bellevue, WA MSA   \n",
       "\n",
       "     reg_date      plan  \n",
       "0  2018-12-24  ultimate  \n",
       "1  2018-08-13      surf  \n",
       "2  2018-10-21      surf  \n",
       "3  2018-01-28      surf  \n",
       "4  2018-05-23      surf  "
      ]
     },
     "execution_count": 15,
     "metadata": {},
     "output_type": "execute_result"
    }
   ],
   "source": [
    "users.head()"
   ]
  },
  {
   "cell_type": "markdown",
   "id": "31ad289a",
   "metadata": {},
   "source": [
    "We saw that some calls and web sessions lasted 0 second. I decide to keep these rows, keeping them will help me to determine the months in which the customer was registred and has to pay the monthly fee. "
   ]
  },
  {
   "cell_type": "markdown",
   "id": "02d14e1d",
   "metadata": {},
   "source": [
    "## Calculate the monthly revenue"
   ]
  },
  {
   "cell_type": "markdown",
   "id": "a88f908b",
   "metadata": {},
   "source": [
    "### Call monthly revenue"
   ]
  },
  {
   "cell_type": "code",
   "execution_count": 16,
   "id": "4811ba40",
   "metadata": {},
   "outputs": [],
   "source": [
    "# creating a new column with months based on call date\n",
    "calls[\"month\"] = pd.to_datetime(calls[\"call_date\"]).dt.month"
   ]
  },
  {
   "cell_type": "code",
   "execution_count": 17,
   "id": "3fafd7f1",
   "metadata": {},
   "outputs": [],
   "source": [
    "# rounding up the duration for each calls\n",
    "calls[\"rounded_call_duration\"] = np.ceil(calls[\"duration\"])"
   ]
  },
  {
   "cell_type": "code",
   "execution_count": 18,
   "id": "be6c6795",
   "metadata": {},
   "outputs": [
    {
     "data": {
      "text/html": [
       "<div>\n",
       "<style scoped>\n",
       "    .dataframe tbody tr th:only-of-type {\n",
       "        vertical-align: middle;\n",
       "    }\n",
       "\n",
       "    .dataframe tbody tr th {\n",
       "        vertical-align: top;\n",
       "    }\n",
       "\n",
       "    .dataframe thead th {\n",
       "        text-align: right;\n",
       "    }\n",
       "</style>\n",
       "<table border=\"1\" class=\"dataframe\">\n",
       "  <thead>\n",
       "    <tr style=\"text-align: right;\">\n",
       "      <th></th>\n",
       "      <th>user_id</th>\n",
       "      <th>month</th>\n",
       "      <th>call_duration</th>\n",
       "      <th>rounded_call_duration</th>\n",
       "      <th>call_number</th>\n",
       "      <th>plan</th>\n",
       "    </tr>\n",
       "  </thead>\n",
       "  <tbody>\n",
       "    <tr>\n",
       "      <th>0</th>\n",
       "      <td>1000</td>\n",
       "      <td>12</td>\n",
       "      <td>116.83</td>\n",
       "      <td>124.0</td>\n",
       "      <td>16</td>\n",
       "      <td>ultimate</td>\n",
       "    </tr>\n",
       "    <tr>\n",
       "      <th>1</th>\n",
       "      <td>1001</td>\n",
       "      <td>8</td>\n",
       "      <td>171.14</td>\n",
       "      <td>182.0</td>\n",
       "      <td>27</td>\n",
       "      <td>surf</td>\n",
       "    </tr>\n",
       "    <tr>\n",
       "      <th>2</th>\n",
       "      <td>1001</td>\n",
       "      <td>9</td>\n",
       "      <td>297.69</td>\n",
       "      <td>315.0</td>\n",
       "      <td>49</td>\n",
       "      <td>surf</td>\n",
       "    </tr>\n",
       "    <tr>\n",
       "      <th>3</th>\n",
       "      <td>1001</td>\n",
       "      <td>10</td>\n",
       "      <td>374.11</td>\n",
       "      <td>393.0</td>\n",
       "      <td>65</td>\n",
       "      <td>surf</td>\n",
       "    </tr>\n",
       "    <tr>\n",
       "      <th>4</th>\n",
       "      <td>1001</td>\n",
       "      <td>11</td>\n",
       "      <td>404.59</td>\n",
       "      <td>426.0</td>\n",
       "      <td>64</td>\n",
       "      <td>surf</td>\n",
       "    </tr>\n",
       "    <tr>\n",
       "      <th>...</th>\n",
       "      <td>...</td>\n",
       "      <td>...</td>\n",
       "      <td>...</td>\n",
       "      <td>...</td>\n",
       "      <td>...</td>\n",
       "      <td>...</td>\n",
       "    </tr>\n",
       "    <tr>\n",
       "      <th>2253</th>\n",
       "      <td>1498</td>\n",
       "      <td>12</td>\n",
       "      <td>324.77</td>\n",
       "      <td>339.0</td>\n",
       "      <td>39</td>\n",
       "      <td>surf</td>\n",
       "    </tr>\n",
       "    <tr>\n",
       "      <th>2254</th>\n",
       "      <td>1499</td>\n",
       "      <td>9</td>\n",
       "      <td>330.37</td>\n",
       "      <td>346.0</td>\n",
       "      <td>41</td>\n",
       "      <td>surf</td>\n",
       "    </tr>\n",
       "    <tr>\n",
       "      <th>2255</th>\n",
       "      <td>1499</td>\n",
       "      <td>10</td>\n",
       "      <td>363.28</td>\n",
       "      <td>385.0</td>\n",
       "      <td>53</td>\n",
       "      <td>surf</td>\n",
       "    </tr>\n",
       "    <tr>\n",
       "      <th>2256</th>\n",
       "      <td>1499</td>\n",
       "      <td>11</td>\n",
       "      <td>288.56</td>\n",
       "      <td>308.0</td>\n",
       "      <td>45</td>\n",
       "      <td>surf</td>\n",
       "    </tr>\n",
       "    <tr>\n",
       "      <th>2257</th>\n",
       "      <td>1499</td>\n",
       "      <td>12</td>\n",
       "      <td>468.10</td>\n",
       "      <td>496.0</td>\n",
       "      <td>65</td>\n",
       "      <td>surf</td>\n",
       "    </tr>\n",
       "  </tbody>\n",
       "</table>\n",
       "<p>2258 rows × 6 columns</p>\n",
       "</div>"
      ],
      "text/plain": [
       "      user_id  month  call_duration  rounded_call_duration  call_number  \\\n",
       "0        1000     12         116.83                  124.0           16   \n",
       "1        1001      8         171.14                  182.0           27   \n",
       "2        1001      9         297.69                  315.0           49   \n",
       "3        1001     10         374.11                  393.0           65   \n",
       "4        1001     11         404.59                  426.0           64   \n",
       "...       ...    ...            ...                    ...          ...   \n",
       "2253     1498     12         324.77                  339.0           39   \n",
       "2254     1499      9         330.37                  346.0           41   \n",
       "2255     1499     10         363.28                  385.0           53   \n",
       "2256     1499     11         288.56                  308.0           45   \n",
       "2257     1499     12         468.10                  496.0           65   \n",
       "\n",
       "          plan  \n",
       "0     ultimate  \n",
       "1         surf  \n",
       "2         surf  \n",
       "3         surf  \n",
       "4         surf  \n",
       "...        ...  \n",
       "2253      surf  \n",
       "2254      surf  \n",
       "2255      surf  \n",
       "2256      surf  \n",
       "2257      surf  \n",
       "\n",
       "[2258 rows x 6 columns]"
      ]
     },
     "execution_count": 18,
     "metadata": {},
     "output_type": "execute_result"
    }
   ],
   "source": [
    "# using a pivot table to group the calls for user and month. Using count() to determine the number and sum() to determine the duration\n",
    "grouped_calls = pd.pivot_table(calls, index=[\"user_id\", \"month\"],  values=[\"duration\", \"rounded_call_duration\"], aggfunc=[\"sum\",\"count\"]).reset_index()\n",
    "\n",
    "# renaming columns\n",
    "grouped_calls.columns = [\"user_id\", \"month\",  \"call_duration\", \"rounded_call_duration\", \"call_number\", \"call_number_d\"]\n",
    "\n",
    "# droping duplicate column\n",
    "grouped_calls = grouped_calls.drop(columns=\"call_number_d\")\n",
    "# merging with users dataframe to copy the columns plan\n",
    "grouped_calls = grouped_calls.merge(users[[\"user_id\", \"plan\"]], on=\"user_id\")\n",
    "\n",
    "grouped_calls"
   ]
  },
  {
   "cell_type": "code",
   "execution_count": 19,
   "id": "d695f44b",
   "metadata": {},
   "outputs": [
    {
     "data": {
      "text/html": [
       "<div>\n",
       "<style scoped>\n",
       "    .dataframe tbody tr th:only-of-type {\n",
       "        vertical-align: middle;\n",
       "    }\n",
       "\n",
       "    .dataframe tbody tr th {\n",
       "        vertical-align: top;\n",
       "    }\n",
       "\n",
       "    .dataframe thead th {\n",
       "        text-align: right;\n",
       "    }\n",
       "</style>\n",
       "<table border=\"1\" class=\"dataframe\">\n",
       "  <thead>\n",
       "    <tr style=\"text-align: right;\">\n",
       "      <th></th>\n",
       "      <th>user_id</th>\n",
       "      <th>month</th>\n",
       "      <th>call_duration</th>\n",
       "      <th>rounded_call_duration</th>\n",
       "      <th>call_number</th>\n",
       "      <th>call_revenue</th>\n",
       "    </tr>\n",
       "  </thead>\n",
       "  <tbody>\n",
       "    <tr>\n",
       "      <th>0</th>\n",
       "      <td>1000</td>\n",
       "      <td>12</td>\n",
       "      <td>116.83</td>\n",
       "      <td>124.0</td>\n",
       "      <td>16</td>\n",
       "      <td>0.0</td>\n",
       "    </tr>\n",
       "    <tr>\n",
       "      <th>1</th>\n",
       "      <td>1001</td>\n",
       "      <td>8</td>\n",
       "      <td>171.14</td>\n",
       "      <td>182.0</td>\n",
       "      <td>27</td>\n",
       "      <td>0.0</td>\n",
       "    </tr>\n",
       "    <tr>\n",
       "      <th>2</th>\n",
       "      <td>1001</td>\n",
       "      <td>9</td>\n",
       "      <td>297.69</td>\n",
       "      <td>315.0</td>\n",
       "      <td>49</td>\n",
       "      <td>0.0</td>\n",
       "    </tr>\n",
       "    <tr>\n",
       "      <th>3</th>\n",
       "      <td>1001</td>\n",
       "      <td>10</td>\n",
       "      <td>374.11</td>\n",
       "      <td>393.0</td>\n",
       "      <td>65</td>\n",
       "      <td>0.0</td>\n",
       "    </tr>\n",
       "    <tr>\n",
       "      <th>4</th>\n",
       "      <td>1001</td>\n",
       "      <td>11</td>\n",
       "      <td>404.59</td>\n",
       "      <td>426.0</td>\n",
       "      <td>64</td>\n",
       "      <td>0.0</td>\n",
       "    </tr>\n",
       "    <tr>\n",
       "      <th>...</th>\n",
       "      <td>...</td>\n",
       "      <td>...</td>\n",
       "      <td>...</td>\n",
       "      <td>...</td>\n",
       "      <td>...</td>\n",
       "      <td>...</td>\n",
       "    </tr>\n",
       "    <tr>\n",
       "      <th>2253</th>\n",
       "      <td>1498</td>\n",
       "      <td>12</td>\n",
       "      <td>324.77</td>\n",
       "      <td>339.0</td>\n",
       "      <td>39</td>\n",
       "      <td>0.0</td>\n",
       "    </tr>\n",
       "    <tr>\n",
       "      <th>2254</th>\n",
       "      <td>1499</td>\n",
       "      <td>9</td>\n",
       "      <td>330.37</td>\n",
       "      <td>346.0</td>\n",
       "      <td>41</td>\n",
       "      <td>0.0</td>\n",
       "    </tr>\n",
       "    <tr>\n",
       "      <th>2255</th>\n",
       "      <td>1499</td>\n",
       "      <td>10</td>\n",
       "      <td>363.28</td>\n",
       "      <td>385.0</td>\n",
       "      <td>53</td>\n",
       "      <td>0.0</td>\n",
       "    </tr>\n",
       "    <tr>\n",
       "      <th>2256</th>\n",
       "      <td>1499</td>\n",
       "      <td>11</td>\n",
       "      <td>288.56</td>\n",
       "      <td>308.0</td>\n",
       "      <td>45</td>\n",
       "      <td>0.0</td>\n",
       "    </tr>\n",
       "    <tr>\n",
       "      <th>2257</th>\n",
       "      <td>1499</td>\n",
       "      <td>12</td>\n",
       "      <td>468.10</td>\n",
       "      <td>496.0</td>\n",
       "      <td>65</td>\n",
       "      <td>0.0</td>\n",
       "    </tr>\n",
       "  </tbody>\n",
       "</table>\n",
       "<p>2258 rows × 6 columns</p>\n",
       "</div>"
      ],
      "text/plain": [
       "      user_id  month  call_duration  rounded_call_duration  call_number  \\\n",
       "0        1000     12         116.83                  124.0           16   \n",
       "1        1001      8         171.14                  182.0           27   \n",
       "2        1001      9         297.69                  315.0           49   \n",
       "3        1001     10         374.11                  393.0           65   \n",
       "4        1001     11         404.59                  426.0           64   \n",
       "...       ...    ...            ...                    ...          ...   \n",
       "2253     1498     12         324.77                  339.0           39   \n",
       "2254     1499      9         330.37                  346.0           41   \n",
       "2255     1499     10         363.28                  385.0           53   \n",
       "2256     1499     11         288.56                  308.0           45   \n",
       "2257     1499     12         468.10                  496.0           65   \n",
       "\n",
       "      call_revenue  \n",
       "0              0.0  \n",
       "1              0.0  \n",
       "2              0.0  \n",
       "3              0.0  \n",
       "4              0.0  \n",
       "...            ...  \n",
       "2253           0.0  \n",
       "2254           0.0  \n",
       "2255           0.0  \n",
       "2256           0.0  \n",
       "2257           0.0  \n",
       "\n",
       "[2258 rows x 6 columns]"
      ]
     },
     "execution_count": 19,
     "metadata": {},
     "output_type": "execute_result"
    }
   ],
   "source": [
    "# determining the revenue from calls only based on active plane\n",
    "\n",
    "def calls_revenue(rounded_call_duration, plan):\n",
    "    \n",
    "    revenue = 0\n",
    "    \n",
    "    if plan == \"ultimate\": # checking plan type\n",
    "        revenue += (rounded_call_duration - 3000) * 0.01 # ultimate has 3000 minutes of free call and the extra minute costs 0.01 \n",
    "    else:\n",
    "        revenue += (rounded_call_duration - 500) * 0.03  # surf has 500 minutes of free call and the extra minute costs 0.03\n",
    "    \n",
    "    if revenue < 0:   # if revenue is less than 0 means that CUS used only free minutes. Revenue is 0\n",
    "        return 0\n",
    "    else:\n",
    "        return revenue\n",
    "        \n",
    "# creating new column call_revenue with values from the function\n",
    "grouped_calls[\"call_revenue\"] = grouped_calls.apply(lambda x: calls_revenue(x['rounded_call_duration'], x['plan']), axis=1)\n",
    "\n",
    "# droping column plan\n",
    "grouped_calls = grouped_calls.drop(columns=\"plan\")\n",
    "\n",
    "grouped_calls"
   ]
  },
  {
   "cell_type": "markdown",
   "id": "8f130df5",
   "metadata": {},
   "source": [
    "To determine the calls revenue, I rounded up each individual call duration. Then I used a pivot table to group the calls by month and user and to sum them. \n",
    "\n",
    "Now that I know the minutes used by every single customer for each month I can subtract the monthly limit set by the plan and multiply the result by the calling plan value.\n",
    "\n",
    "If the result is negative, it means that the customer did not exceed the limit and the revenue is 0, otherwise  revenue is precisely the result of the function. I stored the results in the `[\"call_revenue\"]` columns "
   ]
  },
  {
   "cell_type": "markdown",
   "id": "d8e8467b",
   "metadata": {},
   "source": [
    "### Internet Monthly Revenue"
   ]
  },
  {
   "cell_type": "code",
   "execution_count": 20,
   "id": "6e3015d8",
   "metadata": {},
   "outputs": [],
   "source": [
    "# creating a new column with months based on session date\n",
    "internet[\"month\"] = pd.to_datetime(internet[\"session_date\"]).dt.month"
   ]
  },
  {
   "cell_type": "code",
   "execution_count": 21,
   "id": "e8ac2ff1",
   "metadata": {},
   "outputs": [],
   "source": [
    "# using pivot table to determine mb used each month by each customer\n",
    "grouped_internet = (pd.pivot_table(internet, index=[\"user_id\", \"month\"], values=\"mb_used\", aggfunc=\"sum\")\n",
    "    .reset_index())\n",
    "\n",
    "# mergine column plan we are going to use it for our calculation\n",
    "grouped_internet = grouped_internet.merge(users[[\"user_id\", \"plan\"]], on=\"user_id\")\n"
   ]
  },
  {
   "cell_type": "code",
   "execution_count": 22,
   "id": "a49a7673",
   "metadata": {},
   "outputs": [
    {
     "data": {
      "text/html": [
       "<div>\n",
       "<style scoped>\n",
       "    .dataframe tbody tr th:only-of-type {\n",
       "        vertical-align: middle;\n",
       "    }\n",
       "\n",
       "    .dataframe tbody tr th {\n",
       "        vertical-align: top;\n",
       "    }\n",
       "\n",
       "    .dataframe thead th {\n",
       "        text-align: right;\n",
       "    }\n",
       "</style>\n",
       "<table border=\"1\" class=\"dataframe\">\n",
       "  <thead>\n",
       "    <tr style=\"text-align: right;\">\n",
       "      <th></th>\n",
       "      <th>user_id</th>\n",
       "      <th>month</th>\n",
       "      <th>mb_used</th>\n",
       "      <th>plan</th>\n",
       "      <th>gb_used</th>\n",
       "    </tr>\n",
       "  </thead>\n",
       "  <tbody>\n",
       "    <tr>\n",
       "      <th>0</th>\n",
       "      <td>1000</td>\n",
       "      <td>12</td>\n",
       "      <td>1901.47</td>\n",
       "      <td>ultimate</td>\n",
       "      <td>2.0</td>\n",
       "    </tr>\n",
       "    <tr>\n",
       "      <th>1</th>\n",
       "      <td>1001</td>\n",
       "      <td>8</td>\n",
       "      <td>6919.15</td>\n",
       "      <td>surf</td>\n",
       "      <td>7.0</td>\n",
       "    </tr>\n",
       "    <tr>\n",
       "      <th>2</th>\n",
       "      <td>1001</td>\n",
       "      <td>9</td>\n",
       "      <td>13314.82</td>\n",
       "      <td>surf</td>\n",
       "      <td>14.0</td>\n",
       "    </tr>\n",
       "    <tr>\n",
       "      <th>3</th>\n",
       "      <td>1001</td>\n",
       "      <td>10</td>\n",
       "      <td>22330.49</td>\n",
       "      <td>surf</td>\n",
       "      <td>22.0</td>\n",
       "    </tr>\n",
       "    <tr>\n",
       "      <th>4</th>\n",
       "      <td>1001</td>\n",
       "      <td>11</td>\n",
       "      <td>18504.30</td>\n",
       "      <td>surf</td>\n",
       "      <td>19.0</td>\n",
       "    </tr>\n",
       "    <tr>\n",
       "      <th>...</th>\n",
       "      <td>...</td>\n",
       "      <td>...</td>\n",
       "      <td>...</td>\n",
       "      <td>...</td>\n",
       "      <td>...</td>\n",
       "    </tr>\n",
       "    <tr>\n",
       "      <th>2272</th>\n",
       "      <td>1498</td>\n",
       "      <td>12</td>\n",
       "      <td>23137.69</td>\n",
       "      <td>surf</td>\n",
       "      <td>23.0</td>\n",
       "    </tr>\n",
       "    <tr>\n",
       "      <th>2273</th>\n",
       "      <td>1499</td>\n",
       "      <td>9</td>\n",
       "      <td>12984.76</td>\n",
       "      <td>surf</td>\n",
       "      <td>13.0</td>\n",
       "    </tr>\n",
       "    <tr>\n",
       "      <th>2274</th>\n",
       "      <td>1499</td>\n",
       "      <td>10</td>\n",
       "      <td>19492.43</td>\n",
       "      <td>surf</td>\n",
       "      <td>20.0</td>\n",
       "    </tr>\n",
       "    <tr>\n",
       "      <th>2275</th>\n",
       "      <td>1499</td>\n",
       "      <td>11</td>\n",
       "      <td>16813.83</td>\n",
       "      <td>surf</td>\n",
       "      <td>17.0</td>\n",
       "    </tr>\n",
       "    <tr>\n",
       "      <th>2276</th>\n",
       "      <td>1499</td>\n",
       "      <td>12</td>\n",
       "      <td>22059.21</td>\n",
       "      <td>surf</td>\n",
       "      <td>22.0</td>\n",
       "    </tr>\n",
       "  </tbody>\n",
       "</table>\n",
       "<p>2277 rows × 5 columns</p>\n",
       "</div>"
      ],
      "text/plain": [
       "      user_id  month   mb_used      plan  gb_used\n",
       "0        1000     12   1901.47  ultimate      2.0\n",
       "1        1001      8   6919.15      surf      7.0\n",
       "2        1001      9  13314.82      surf     14.0\n",
       "3        1001     10  22330.49      surf     22.0\n",
       "4        1001     11  18504.30      surf     19.0\n",
       "...       ...    ...       ...       ...      ...\n",
       "2272     1498     12  23137.69      surf     23.0\n",
       "2273     1499      9  12984.76      surf     13.0\n",
       "2274     1499     10  19492.43      surf     20.0\n",
       "2275     1499     11  16813.83      surf     17.0\n",
       "2276     1499     12  22059.21      surf     22.0\n",
       "\n",
       "[2277 rows x 5 columns]"
      ]
     },
     "execution_count": 22,
     "metadata": {},
     "output_type": "execute_result"
    }
   ],
   "source": [
    "# converting mb in gb and rounding up \n",
    "    \n",
    "grouped_internet[\"gb_used\"] = np.ceil(grouped_internet[\"mb_used\"]/1024)\n",
    "grouped_internet"
   ]
  },
  {
   "cell_type": "code",
   "execution_count": 23,
   "id": "548bd49b",
   "metadata": {},
   "outputs": [
    {
     "data": {
      "text/html": [
       "<div>\n",
       "<style scoped>\n",
       "    .dataframe tbody tr th:only-of-type {\n",
       "        vertical-align: middle;\n",
       "    }\n",
       "\n",
       "    .dataframe tbody tr th {\n",
       "        vertical-align: top;\n",
       "    }\n",
       "\n",
       "    .dataframe thead th {\n",
       "        text-align: right;\n",
       "    }\n",
       "</style>\n",
       "<table border=\"1\" class=\"dataframe\">\n",
       "  <thead>\n",
       "    <tr style=\"text-align: right;\">\n",
       "      <th></th>\n",
       "      <th>user_id</th>\n",
       "      <th>month</th>\n",
       "      <th>mb_used</th>\n",
       "      <th>gb_used</th>\n",
       "      <th>gb_revenue</th>\n",
       "    </tr>\n",
       "  </thead>\n",
       "  <tbody>\n",
       "    <tr>\n",
       "      <th>0</th>\n",
       "      <td>1000</td>\n",
       "      <td>12</td>\n",
       "      <td>1901.47</td>\n",
       "      <td>2.0</td>\n",
       "      <td>0.0</td>\n",
       "    </tr>\n",
       "    <tr>\n",
       "      <th>1</th>\n",
       "      <td>1001</td>\n",
       "      <td>8</td>\n",
       "      <td>6919.15</td>\n",
       "      <td>7.0</td>\n",
       "      <td>0.0</td>\n",
       "    </tr>\n",
       "    <tr>\n",
       "      <th>2</th>\n",
       "      <td>1001</td>\n",
       "      <td>9</td>\n",
       "      <td>13314.82</td>\n",
       "      <td>14.0</td>\n",
       "      <td>0.0</td>\n",
       "    </tr>\n",
       "    <tr>\n",
       "      <th>3</th>\n",
       "      <td>1001</td>\n",
       "      <td>10</td>\n",
       "      <td>22330.49</td>\n",
       "      <td>22.0</td>\n",
       "      <td>70.0</td>\n",
       "    </tr>\n",
       "    <tr>\n",
       "      <th>4</th>\n",
       "      <td>1001</td>\n",
       "      <td>11</td>\n",
       "      <td>18504.30</td>\n",
       "      <td>19.0</td>\n",
       "      <td>40.0</td>\n",
       "    </tr>\n",
       "    <tr>\n",
       "      <th>...</th>\n",
       "      <td>...</td>\n",
       "      <td>...</td>\n",
       "      <td>...</td>\n",
       "      <td>...</td>\n",
       "      <td>...</td>\n",
       "    </tr>\n",
       "    <tr>\n",
       "      <th>2272</th>\n",
       "      <td>1498</td>\n",
       "      <td>12</td>\n",
       "      <td>23137.69</td>\n",
       "      <td>23.0</td>\n",
       "      <td>80.0</td>\n",
       "    </tr>\n",
       "    <tr>\n",
       "      <th>2273</th>\n",
       "      <td>1499</td>\n",
       "      <td>9</td>\n",
       "      <td>12984.76</td>\n",
       "      <td>13.0</td>\n",
       "      <td>0.0</td>\n",
       "    </tr>\n",
       "    <tr>\n",
       "      <th>2274</th>\n",
       "      <td>1499</td>\n",
       "      <td>10</td>\n",
       "      <td>19492.43</td>\n",
       "      <td>20.0</td>\n",
       "      <td>50.0</td>\n",
       "    </tr>\n",
       "    <tr>\n",
       "      <th>2275</th>\n",
       "      <td>1499</td>\n",
       "      <td>11</td>\n",
       "      <td>16813.83</td>\n",
       "      <td>17.0</td>\n",
       "      <td>20.0</td>\n",
       "    </tr>\n",
       "    <tr>\n",
       "      <th>2276</th>\n",
       "      <td>1499</td>\n",
       "      <td>12</td>\n",
       "      <td>22059.21</td>\n",
       "      <td>22.0</td>\n",
       "      <td>70.0</td>\n",
       "    </tr>\n",
       "  </tbody>\n",
       "</table>\n",
       "<p>2277 rows × 5 columns</p>\n",
       "</div>"
      ],
      "text/plain": [
       "      user_id  month   mb_used  gb_used  gb_revenue\n",
       "0        1000     12   1901.47      2.0         0.0\n",
       "1        1001      8   6919.15      7.0         0.0\n",
       "2        1001      9  13314.82     14.0         0.0\n",
       "3        1001     10  22330.49     22.0        70.0\n",
       "4        1001     11  18504.30     19.0        40.0\n",
       "...       ...    ...       ...      ...         ...\n",
       "2272     1498     12  23137.69     23.0        80.0\n",
       "2273     1499      9  12984.76     13.0         0.0\n",
       "2274     1499     10  19492.43     20.0        50.0\n",
       "2275     1499     11  16813.83     17.0        20.0\n",
       "2276     1499     12  22059.21     22.0        70.0\n",
       "\n",
       "[2277 rows x 5 columns]"
      ]
     },
     "execution_count": 23,
     "metadata": {},
     "output_type": "execute_result"
    }
   ],
   "source": [
    "# determining revenue from gb only\n",
    "def internet_revenue(gb_used, plan):\n",
    "    \n",
    "    revenue = 0\n",
    "    \n",
    "    if plan == \"ultimate\":\n",
    "        revenue += (gb_used - 30) * 7 # ultimate has 30 free gb and extra gb costs 7 usd\n",
    "    else:\n",
    "        revenue += (gb_used - 15) * 10 # serf has 15 free gb and extra gb costs 15 usd\n",
    "    \n",
    "    if revenue < 0: # if revenue is less then 0 CUS used only free gb and revenue is 0\n",
    "        return 0\n",
    "    else:\n",
    "        return revenue\n",
    "        \n",
    "\n",
    "# creating gb_revenue column with values determined by the function        \n",
    "grouped_internet[\"gb_revenue\"] = grouped_internet.apply(lambda x: internet_revenue(x['gb_used'], x['plan']), axis=1)\n",
    "grouped_internet = grouped_internet.drop(columns=\"plan\")\n",
    "\n",
    "grouped_internet"
   ]
  },
  {
   "cell_type": "markdown",
   "id": "00ed1c9e",
   "metadata": {},
   "source": [
    "To determine the internet revenue, I converted megabyte to gigabyte and since the service provider, for web traffic, does not round up the individual web sessions, but the total for the month, I grouped the web session by month and user before to apply the `ceil()` method. \n",
    "\n",
    "I subtracted the monthly limit set by the plan and multiply the result by the plan value. I stored the results in the `[\"gb_revenue\"]` columns "
   ]
  },
  {
   "cell_type": "markdown",
   "id": "6fd5ec2d",
   "metadata": {},
   "source": [
    "### Message Monthly Revenue"
   ]
  },
  {
   "cell_type": "code",
   "execution_count": 24,
   "id": "f160db08",
   "metadata": {},
   "outputs": [],
   "source": [
    "# creating a month columns based on message_date\n",
    "messages[\"month\"] = pd.to_datetime(messages[\"message_date\"]).dt.month\n",
    "\n",
    "# using pivot table to determine the number of message each user used each month\n",
    "grouped_messages = pd.pivot_table(messages, index=[\"user_id\", \"month\"],  values=\"id\", aggfunc=\"count\").reset_index()\n",
    "\n",
    "# renaming columns\n",
    "grouped_messages.columns = [\"user_id\", \"month\", \"message_number\"]\n",
    "\n",
    "# coping column plane from users\n",
    "grouped_messages = grouped_messages.merge(users[[\"user_id\", \"plan\"]], on=\"user_id\")"
   ]
  },
  {
   "cell_type": "code",
   "execution_count": 25,
   "id": "d02d7b29",
   "metadata": {},
   "outputs": [
    {
     "data": {
      "text/html": [
       "<div>\n",
       "<style scoped>\n",
       "    .dataframe tbody tr th:only-of-type {\n",
       "        vertical-align: middle;\n",
       "    }\n",
       "\n",
       "    .dataframe tbody tr th {\n",
       "        vertical-align: top;\n",
       "    }\n",
       "\n",
       "    .dataframe thead th {\n",
       "        text-align: right;\n",
       "    }\n",
       "</style>\n",
       "<table border=\"1\" class=\"dataframe\">\n",
       "  <thead>\n",
       "    <tr style=\"text-align: right;\">\n",
       "      <th></th>\n",
       "      <th>user_id</th>\n",
       "      <th>month</th>\n",
       "      <th>message_number</th>\n",
       "      <th>messages_revenue</th>\n",
       "    </tr>\n",
       "  </thead>\n",
       "  <tbody>\n",
       "    <tr>\n",
       "      <th>0</th>\n",
       "      <td>1000</td>\n",
       "      <td>12</td>\n",
       "      <td>11</td>\n",
       "      <td>0.00</td>\n",
       "    </tr>\n",
       "    <tr>\n",
       "      <th>1</th>\n",
       "      <td>1001</td>\n",
       "      <td>8</td>\n",
       "      <td>30</td>\n",
       "      <td>0.00</td>\n",
       "    </tr>\n",
       "    <tr>\n",
       "      <th>2</th>\n",
       "      <td>1001</td>\n",
       "      <td>9</td>\n",
       "      <td>44</td>\n",
       "      <td>0.00</td>\n",
       "    </tr>\n",
       "    <tr>\n",
       "      <th>3</th>\n",
       "      <td>1001</td>\n",
       "      <td>10</td>\n",
       "      <td>53</td>\n",
       "      <td>0.09</td>\n",
       "    </tr>\n",
       "    <tr>\n",
       "      <th>4</th>\n",
       "      <td>1001</td>\n",
       "      <td>11</td>\n",
       "      <td>36</td>\n",
       "      <td>0.00</td>\n",
       "    </tr>\n",
       "    <tr>\n",
       "      <th>...</th>\n",
       "      <td>...</td>\n",
       "      <td>...</td>\n",
       "      <td>...</td>\n",
       "      <td>...</td>\n",
       "    </tr>\n",
       "    <tr>\n",
       "      <th>1801</th>\n",
       "      <td>1496</td>\n",
       "      <td>9</td>\n",
       "      <td>21</td>\n",
       "      <td>0.00</td>\n",
       "    </tr>\n",
       "    <tr>\n",
       "      <th>1802</th>\n",
       "      <td>1496</td>\n",
       "      <td>10</td>\n",
       "      <td>18</td>\n",
       "      <td>0.00</td>\n",
       "    </tr>\n",
       "    <tr>\n",
       "      <th>1803</th>\n",
       "      <td>1496</td>\n",
       "      <td>11</td>\n",
       "      <td>13</td>\n",
       "      <td>0.00</td>\n",
       "    </tr>\n",
       "    <tr>\n",
       "      <th>1804</th>\n",
       "      <td>1496</td>\n",
       "      <td>12</td>\n",
       "      <td>11</td>\n",
       "      <td>0.00</td>\n",
       "    </tr>\n",
       "    <tr>\n",
       "      <th>1805</th>\n",
       "      <td>1497</td>\n",
       "      <td>12</td>\n",
       "      <td>50</td>\n",
       "      <td>0.00</td>\n",
       "    </tr>\n",
       "  </tbody>\n",
       "</table>\n",
       "<p>1806 rows × 4 columns</p>\n",
       "</div>"
      ],
      "text/plain": [
       "      user_id  month  message_number  messages_revenue\n",
       "0        1000     12              11              0.00\n",
       "1        1001      8              30              0.00\n",
       "2        1001      9              44              0.00\n",
       "3        1001     10              53              0.09\n",
       "4        1001     11              36              0.00\n",
       "...       ...    ...             ...               ...\n",
       "1801     1496      9              21              0.00\n",
       "1802     1496     10              18              0.00\n",
       "1803     1496     11              13              0.00\n",
       "1804     1496     12              11              0.00\n",
       "1805     1497     12              50              0.00\n",
       "\n",
       "[1806 rows x 4 columns]"
      ]
     },
     "execution_count": 25,
     "metadata": {},
     "output_type": "execute_result"
    }
   ],
   "source": [
    "# determining revenue from message\n",
    "def messages_revenue(message_number, plan):\n",
    "    \n",
    "    revenue = 0\n",
    "    \n",
    "    if plan == \"ultimate\":\n",
    "        revenue += (message_number - 1000) * 0.01 # ultimate has 1000 free messages and each extra message costs 0.01\n",
    "    else:\n",
    "        revenue += (message_number - 50) * 0.03  # surf has 50 free messages and each extra message costs 0.03\n",
    "    \n",
    "    if revenue < 0: # if revenue less then 0, revenue is 0\n",
    "        return 0\n",
    "    else:\n",
    "        return revenue\n",
    "        \n",
    "# creating the message_revenue and appling the function\n",
    "grouped_messages[\"messages_revenue\"] = grouped_messages.apply(lambda x: messages_revenue(x['message_number'], x['plan']), axis=1)\n",
    "grouped_messages = grouped_messages.drop(columns=\"plan\")\n",
    "grouped_messages"
   ]
  },
  {
   "cell_type": "markdown",
   "id": "294bc0ee",
   "metadata": {},
   "source": [
    "To determine the message revenue, I grouped the message by month and user I subtracted the monthly limit set by the plan and multiply the result by the plan value. I stored the results in the `[\"messages_revenue\"]` columns \n"
   ]
  },
  {
   "cell_type": "markdown",
   "id": "b7e15378",
   "metadata": {},
   "source": [
    "### Total Monthly Revenue for each customer"
   ]
  },
  {
   "cell_type": "code",
   "execution_count": 26,
   "id": "750e3a2c",
   "metadata": {},
   "outputs": [],
   "source": [
    "# merging the tables grouped_internet, _calls and _messages to dataframe users \n",
    "\n",
    "final1= pd.merge(left = grouped_internet , \n",
    "                right = grouped_calls, how='outer',on=['user_id', 'month']).fillna(0)\n",
    "final2=pd.merge(left = final1 , \n",
    "                right = grouped_messages, how='outer',on=['user_id', 'month']).fillna(0)\n",
    "\n",
    "data = final2.merge(users, on=\"user_id\")\n",
    "\n"
   ]
  },
  {
   "cell_type": "code",
   "execution_count": 27,
   "id": "83fb0238",
   "metadata": {},
   "outputs": [
    {
     "data": {
      "text/html": [
       "<div>\n",
       "<style scoped>\n",
       "    .dataframe tbody tr th:only-of-type {\n",
       "        vertical-align: middle;\n",
       "    }\n",
       "\n",
       "    .dataframe tbody tr th {\n",
       "        vertical-align: top;\n",
       "    }\n",
       "\n",
       "    .dataframe thead th {\n",
       "        text-align: right;\n",
       "    }\n",
       "</style>\n",
       "<table border=\"1\" class=\"dataframe\">\n",
       "  <thead>\n",
       "    <tr style=\"text-align: right;\">\n",
       "      <th></th>\n",
       "      <th>user_id</th>\n",
       "      <th>month</th>\n",
       "      <th>mb_used</th>\n",
       "      <th>gb_used</th>\n",
       "      <th>gb_revenue</th>\n",
       "      <th>call_duration</th>\n",
       "      <th>rounded_call_duration</th>\n",
       "      <th>call_number</th>\n",
       "      <th>call_revenue</th>\n",
       "      <th>message_number</th>\n",
       "      <th>messages_revenue</th>\n",
       "      <th>first_name</th>\n",
       "      <th>last_name</th>\n",
       "      <th>age</th>\n",
       "      <th>city</th>\n",
       "      <th>reg_date</th>\n",
       "      <th>plan</th>\n",
       "      <th>monthly_revenue</th>\n",
       "    </tr>\n",
       "  </thead>\n",
       "  <tbody>\n",
       "    <tr>\n",
       "      <th>0</th>\n",
       "      <td>1000</td>\n",
       "      <td>12</td>\n",
       "      <td>1901.47</td>\n",
       "      <td>2.0</td>\n",
       "      <td>0.0</td>\n",
       "      <td>116.83</td>\n",
       "      <td>124.0</td>\n",
       "      <td>16.0</td>\n",
       "      <td>0.0</td>\n",
       "      <td>11.0</td>\n",
       "      <td>0.00</td>\n",
       "      <td>Anamaria</td>\n",
       "      <td>Bauer</td>\n",
       "      <td>45</td>\n",
       "      <td>Atlanta-Sandy Springs-Roswell, GA MSA</td>\n",
       "      <td>2018-12-24</td>\n",
       "      <td>ultimate</td>\n",
       "      <td>70.00</td>\n",
       "    </tr>\n",
       "    <tr>\n",
       "      <th>1</th>\n",
       "      <td>1001</td>\n",
       "      <td>8</td>\n",
       "      <td>6919.15</td>\n",
       "      <td>7.0</td>\n",
       "      <td>0.0</td>\n",
       "      <td>171.14</td>\n",
       "      <td>182.0</td>\n",
       "      <td>27.0</td>\n",
       "      <td>0.0</td>\n",
       "      <td>30.0</td>\n",
       "      <td>0.00</td>\n",
       "      <td>Mickey</td>\n",
       "      <td>Wilkerson</td>\n",
       "      <td>28</td>\n",
       "      <td>Seattle-Tacoma-Bellevue, WA MSA</td>\n",
       "      <td>2018-08-13</td>\n",
       "      <td>surf</td>\n",
       "      <td>20.00</td>\n",
       "    </tr>\n",
       "    <tr>\n",
       "      <th>2</th>\n",
       "      <td>1001</td>\n",
       "      <td>9</td>\n",
       "      <td>13314.82</td>\n",
       "      <td>14.0</td>\n",
       "      <td>0.0</td>\n",
       "      <td>297.69</td>\n",
       "      <td>315.0</td>\n",
       "      <td>49.0</td>\n",
       "      <td>0.0</td>\n",
       "      <td>44.0</td>\n",
       "      <td>0.00</td>\n",
       "      <td>Mickey</td>\n",
       "      <td>Wilkerson</td>\n",
       "      <td>28</td>\n",
       "      <td>Seattle-Tacoma-Bellevue, WA MSA</td>\n",
       "      <td>2018-08-13</td>\n",
       "      <td>surf</td>\n",
       "      <td>20.00</td>\n",
       "    </tr>\n",
       "    <tr>\n",
       "      <th>3</th>\n",
       "      <td>1001</td>\n",
       "      <td>10</td>\n",
       "      <td>22330.49</td>\n",
       "      <td>22.0</td>\n",
       "      <td>70.0</td>\n",
       "      <td>374.11</td>\n",
       "      <td>393.0</td>\n",
       "      <td>65.0</td>\n",
       "      <td>0.0</td>\n",
       "      <td>53.0</td>\n",
       "      <td>0.09</td>\n",
       "      <td>Mickey</td>\n",
       "      <td>Wilkerson</td>\n",
       "      <td>28</td>\n",
       "      <td>Seattle-Tacoma-Bellevue, WA MSA</td>\n",
       "      <td>2018-08-13</td>\n",
       "      <td>surf</td>\n",
       "      <td>90.09</td>\n",
       "    </tr>\n",
       "    <tr>\n",
       "      <th>4</th>\n",
       "      <td>1001</td>\n",
       "      <td>11</td>\n",
       "      <td>18504.30</td>\n",
       "      <td>19.0</td>\n",
       "      <td>40.0</td>\n",
       "      <td>404.59</td>\n",
       "      <td>426.0</td>\n",
       "      <td>64.0</td>\n",
       "      <td>0.0</td>\n",
       "      <td>36.0</td>\n",
       "      <td>0.00</td>\n",
       "      <td>Mickey</td>\n",
       "      <td>Wilkerson</td>\n",
       "      <td>28</td>\n",
       "      <td>Seattle-Tacoma-Bellevue, WA MSA</td>\n",
       "      <td>2018-08-13</td>\n",
       "      <td>surf</td>\n",
       "      <td>60.00</td>\n",
       "    </tr>\n",
       "  </tbody>\n",
       "</table>\n",
       "</div>"
      ],
      "text/plain": [
       "   user_id  month   mb_used  gb_used  gb_revenue  call_duration  \\\n",
       "0     1000     12   1901.47      2.0         0.0         116.83   \n",
       "1     1001      8   6919.15      7.0         0.0         171.14   \n",
       "2     1001      9  13314.82     14.0         0.0         297.69   \n",
       "3     1001     10  22330.49     22.0        70.0         374.11   \n",
       "4     1001     11  18504.30     19.0        40.0         404.59   \n",
       "\n",
       "   rounded_call_duration  call_number  call_revenue  message_number  \\\n",
       "0                  124.0         16.0           0.0            11.0   \n",
       "1                  182.0         27.0           0.0            30.0   \n",
       "2                  315.0         49.0           0.0            44.0   \n",
       "3                  393.0         65.0           0.0            53.0   \n",
       "4                  426.0         64.0           0.0            36.0   \n",
       "\n",
       "   messages_revenue first_name  last_name  age  \\\n",
       "0              0.00   Anamaria      Bauer   45   \n",
       "1              0.00     Mickey  Wilkerson   28   \n",
       "2              0.00     Mickey  Wilkerson   28   \n",
       "3              0.09     Mickey  Wilkerson   28   \n",
       "4              0.00     Mickey  Wilkerson   28   \n",
       "\n",
       "                                    city    reg_date      plan  \\\n",
       "0  Atlanta-Sandy Springs-Roswell, GA MSA  2018-12-24  ultimate   \n",
       "1        Seattle-Tacoma-Bellevue, WA MSA  2018-08-13      surf   \n",
       "2        Seattle-Tacoma-Bellevue, WA MSA  2018-08-13      surf   \n",
       "3        Seattle-Tacoma-Bellevue, WA MSA  2018-08-13      surf   \n",
       "4        Seattle-Tacoma-Bellevue, WA MSA  2018-08-13      surf   \n",
       "\n",
       "   monthly_revenue  \n",
       "0            70.00  \n",
       "1            20.00  \n",
       "2            20.00  \n",
       "3            90.09  \n",
       "4            60.00  "
      ]
     },
     "execution_count": 27,
     "metadata": {},
     "output_type": "execute_result"
    }
   ],
   "source": [
    "# determining monthly revenue for each customer\n",
    "def monthly_revenue(plan, messages_revenue, call_revenue, gb_revenue ):\n",
    "       # add the montly charge to messages_revenue, call_revenue and gb_revenue \n",
    "    if plan == \"ultimate\":\n",
    "        return  70 + messages_revenue + call_revenue + gb_revenue # for ultimate monthly charge is 70\n",
    "    else:\n",
    "        return 20 + messages_revenue + call_revenue + gb_revenue # for surf monthly charge is 20\n",
    "    \n",
    "data[\"monthly_revenue\"] = data.apply(lambda x: monthly_revenue(x['plan'], x['messages_revenue'], x['call_revenue'], x['gb_revenue']), axis=1)\n",
    "data.head() "
   ]
  },
  {
   "cell_type": "markdown",
   "id": "5b25f751",
   "metadata": {},
   "source": [
    " I merged all the previously created dataframes, determined the total monthly revenue for each customer and stored the result in the `[\"revenue\"]` columns"
   ]
  },
  {
   "cell_type": "code",
   "execution_count": 28,
   "id": "ef2cf721",
   "metadata": {},
   "outputs": [
    {
     "data": {
      "text/html": [
       "<div>\n",
       "<style scoped>\n",
       "    .dataframe tbody tr th:only-of-type {\n",
       "        vertical-align: middle;\n",
       "    }\n",
       "\n",
       "    .dataframe tbody tr th {\n",
       "        vertical-align: top;\n",
       "    }\n",
       "\n",
       "    .dataframe thead th {\n",
       "        text-align: right;\n",
       "    }\n",
       "</style>\n",
       "<table border=\"1\" class=\"dataframe\">\n",
       "  <thead>\n",
       "    <tr style=\"text-align: right;\">\n",
       "      <th></th>\n",
       "      <th>user_id</th>\n",
       "      <th>month</th>\n",
       "      <th>gb_used</th>\n",
       "      <th>call_duration</th>\n",
       "      <th>call_number</th>\n",
       "      <th>message_number</th>\n",
       "      <th>city</th>\n",
       "      <th>plan</th>\n",
       "      <th>monthly_revenue</th>\n",
       "    </tr>\n",
       "  </thead>\n",
       "  <tbody>\n",
       "    <tr>\n",
       "      <th>0</th>\n",
       "      <td>1000</td>\n",
       "      <td>12</td>\n",
       "      <td>2.0</td>\n",
       "      <td>116.83</td>\n",
       "      <td>16.0</td>\n",
       "      <td>11.0</td>\n",
       "      <td>Atlanta-Sandy Springs-Roswell, GA MSA</td>\n",
       "      <td>ultimate</td>\n",
       "      <td>70.00</td>\n",
       "    </tr>\n",
       "    <tr>\n",
       "      <th>1</th>\n",
       "      <td>1001</td>\n",
       "      <td>8</td>\n",
       "      <td>7.0</td>\n",
       "      <td>171.14</td>\n",
       "      <td>27.0</td>\n",
       "      <td>30.0</td>\n",
       "      <td>Seattle-Tacoma-Bellevue, WA MSA</td>\n",
       "      <td>surf</td>\n",
       "      <td>20.00</td>\n",
       "    </tr>\n",
       "    <tr>\n",
       "      <th>2</th>\n",
       "      <td>1001</td>\n",
       "      <td>9</td>\n",
       "      <td>14.0</td>\n",
       "      <td>297.69</td>\n",
       "      <td>49.0</td>\n",
       "      <td>44.0</td>\n",
       "      <td>Seattle-Tacoma-Bellevue, WA MSA</td>\n",
       "      <td>surf</td>\n",
       "      <td>20.00</td>\n",
       "    </tr>\n",
       "    <tr>\n",
       "      <th>3</th>\n",
       "      <td>1001</td>\n",
       "      <td>10</td>\n",
       "      <td>22.0</td>\n",
       "      <td>374.11</td>\n",
       "      <td>65.0</td>\n",
       "      <td>53.0</td>\n",
       "      <td>Seattle-Tacoma-Bellevue, WA MSA</td>\n",
       "      <td>surf</td>\n",
       "      <td>90.09</td>\n",
       "    </tr>\n",
       "    <tr>\n",
       "      <th>4</th>\n",
       "      <td>1001</td>\n",
       "      <td>11</td>\n",
       "      <td>19.0</td>\n",
       "      <td>404.59</td>\n",
       "      <td>64.0</td>\n",
       "      <td>36.0</td>\n",
       "      <td>Seattle-Tacoma-Bellevue, WA MSA</td>\n",
       "      <td>surf</td>\n",
       "      <td>60.00</td>\n",
       "    </tr>\n",
       "  </tbody>\n",
       "</table>\n",
       "</div>"
      ],
      "text/plain": [
       "   user_id  month  gb_used  call_duration  call_number  message_number  \\\n",
       "0     1000     12      2.0         116.83         16.0            11.0   \n",
       "1     1001      8      7.0         171.14         27.0            30.0   \n",
       "2     1001      9     14.0         297.69         49.0            44.0   \n",
       "3     1001     10     22.0         374.11         65.0            53.0   \n",
       "4     1001     11     19.0         404.59         64.0            36.0   \n",
       "\n",
       "                                    city      plan  monthly_revenue  \n",
       "0  Atlanta-Sandy Springs-Roswell, GA MSA  ultimate            70.00  \n",
       "1        Seattle-Tacoma-Bellevue, WA MSA      surf            20.00  \n",
       "2        Seattle-Tacoma-Bellevue, WA MSA      surf            20.00  \n",
       "3        Seattle-Tacoma-Bellevue, WA MSA      surf            90.09  \n",
       "4        Seattle-Tacoma-Bellevue, WA MSA      surf            60.00  "
      ]
     },
     "execution_count": 28,
     "metadata": {},
     "output_type": "execute_result"
    }
   ],
   "source": [
    "data = data.drop(columns=[\"mb_used\", \"gb_revenue\", \"rounded_call_duration\", \"call_revenue\", \"messages_revenue\", \"first_name\", \"last_name\", \"age\", \"reg_date\"])\n",
    "data.head()"
   ]
  },
  {
   "cell_type": "markdown",
   "id": "836e9ad7",
   "metadata": {},
   "source": [
    " I created a new dataframe `data` that contains only the information I need for the rest of the analysis"
   ]
  },
  {
   "cell_type": "markdown",
   "id": "ce384709",
   "metadata": {},
   "source": [
    "# Step 3. Analyze the data"
   ]
  },
  {
   "cell_type": "markdown",
   "id": "f035e2fa",
   "metadata": {},
   "source": [
    "### Describing the customers' behavior\n"
   ]
  },
  {
   "cell_type": "code",
   "execution_count": 29,
   "id": "30320045",
   "metadata": {},
   "outputs": [
    {
     "data": {
      "text/html": [
       "<div>\n",
       "<style scoped>\n",
       "    .dataframe tbody tr th:only-of-type {\n",
       "        vertical-align: middle;\n",
       "    }\n",
       "\n",
       "    .dataframe tbody tr th {\n",
       "        vertical-align: top;\n",
       "    }\n",
       "\n",
       "    .dataframe thead th {\n",
       "        text-align: right;\n",
       "    }\n",
       "</style>\n",
       "<table border=\"1\" class=\"dataframe\">\n",
       "  <thead>\n",
       "    <tr style=\"text-align: right;\">\n",
       "      <th></th>\n",
       "      <th>count</th>\n",
       "      <th>mean</th>\n",
       "      <th>std</th>\n",
       "      <th>min</th>\n",
       "      <th>25%</th>\n",
       "      <th>50%</th>\n",
       "      <th>75%</th>\n",
       "      <th>max</th>\n",
       "    </tr>\n",
       "  </thead>\n",
       "  <tbody>\n",
       "    <tr>\n",
       "      <th>user_id</th>\n",
       "      <td>2293.0</td>\n",
       "      <td>1246.075883</td>\n",
       "      <td>143.051927</td>\n",
       "      <td>1000.0</td>\n",
       "      <td>1122.00</td>\n",
       "      <td>1245.00</td>\n",
       "      <td>1368.00</td>\n",
       "      <td>1499.00</td>\n",
       "    </tr>\n",
       "    <tr>\n",
       "      <th>month</th>\n",
       "      <td>2293.0</td>\n",
       "      <td>9.172700</td>\n",
       "      <td>2.496386</td>\n",
       "      <td>1.0</td>\n",
       "      <td>8.00</td>\n",
       "      <td>10.00</td>\n",
       "      <td>11.00</td>\n",
       "      <td>12.00</td>\n",
       "    </tr>\n",
       "    <tr>\n",
       "      <th>gb_used</th>\n",
       "      <td>2293.0</td>\n",
       "      <td>16.870475</td>\n",
       "      <td>7.796174</td>\n",
       "      <td>0.0</td>\n",
       "      <td>12.00</td>\n",
       "      <td>17.00</td>\n",
       "      <td>21.00</td>\n",
       "      <td>70.00</td>\n",
       "    </tr>\n",
       "    <tr>\n",
       "      <th>call_duration</th>\n",
       "      <td>2293.0</td>\n",
       "      <td>405.211627</td>\n",
       "      <td>223.383523</td>\n",
       "      <td>0.0</td>\n",
       "      <td>249.13</td>\n",
       "      <td>400.16</td>\n",
       "      <td>540.45</td>\n",
       "      <td>1431.22</td>\n",
       "    </tr>\n",
       "    <tr>\n",
       "      <th>call_number</th>\n",
       "      <td>2293.0</td>\n",
       "      <td>60.067597</td>\n",
       "      <td>32.402563</td>\n",
       "      <td>0.0</td>\n",
       "      <td>38.00</td>\n",
       "      <td>60.00</td>\n",
       "      <td>79.00</td>\n",
       "      <td>205.00</td>\n",
       "    </tr>\n",
       "    <tr>\n",
       "      <th>message_number</th>\n",
       "      <td>2293.0</td>\n",
       "      <td>33.166594</td>\n",
       "      <td>34.070085</td>\n",
       "      <td>0.0</td>\n",
       "      <td>3.00</td>\n",
       "      <td>26.00</td>\n",
       "      <td>51.00</td>\n",
       "      <td>266.00</td>\n",
       "    </tr>\n",
       "    <tr>\n",
       "      <th>monthly_revenue</th>\n",
       "      <td>2293.0</td>\n",
       "      <td>64.351147</td>\n",
       "      <td>46.624945</td>\n",
       "      <td>20.0</td>\n",
       "      <td>23.48</td>\n",
       "      <td>70.00</td>\n",
       "      <td>70.00</td>\n",
       "      <td>590.37</td>\n",
       "    </tr>\n",
       "  </tbody>\n",
       "</table>\n",
       "</div>"
      ],
      "text/plain": [
       "                  count         mean         std     min      25%      50%  \\\n",
       "user_id          2293.0  1246.075883  143.051927  1000.0  1122.00  1245.00   \n",
       "month            2293.0     9.172700    2.496386     1.0     8.00    10.00   \n",
       "gb_used          2293.0    16.870475    7.796174     0.0    12.00    17.00   \n",
       "call_duration    2293.0   405.211627  223.383523     0.0   249.13   400.16   \n",
       "call_number      2293.0    60.067597   32.402563     0.0    38.00    60.00   \n",
       "message_number   2293.0    33.166594   34.070085     0.0     3.00    26.00   \n",
       "monthly_revenue  2293.0    64.351147   46.624945    20.0    23.48    70.00   \n",
       "\n",
       "                     75%      max  \n",
       "user_id          1368.00  1499.00  \n",
       "month              11.00    12.00  \n",
       "gb_used            21.00    70.00  \n",
       "call_duration     540.45  1431.22  \n",
       "call_number        79.00   205.00  \n",
       "message_number     51.00   266.00  \n",
       "monthly_revenue    70.00   590.37  "
      ]
     },
     "execution_count": 29,
     "metadata": {},
     "output_type": "execute_result"
    }
   ],
   "source": [
    "data.describe().transpose()"
   ]
  },
  {
   "cell_type": "markdown",
   "id": "062d7cd3",
   "metadata": {},
   "source": [
    "On average, in a month, a customer of Megaline spent about 405 minutes on calls in 2018. The maximum duration a customer spend on calls in a month is about 1430 minutes. In a month, a customer makes about 60 calls on average. \n",
    "\n",
    "Averagely, a customer of megaline sends about 33 text messages in a month. The highest number of text messages a customer sent in a month in 2018 was 266. \n",
    "\n",
    "In a month, a customer of Megaline uses about 17 gigabytes of data, and largest data used in a month in 2018 was about 70 Gigabytes.\n",
    "\n",
    "The highest revenue generated in a month from a customer was about $590.37 ; the minimum was about 20.00 dollars. The average revenue Megaline generated in a month from its' customers in 2018 was about 64.35 dollars"
   ]
  },
  {
   "cell_type": "code",
   "execution_count": 30,
   "id": "803edbba",
   "metadata": {},
   "outputs": [
    {
     "data": {
      "text/html": [
       "<div>\n",
       "<style scoped>\n",
       "    .dataframe tbody tr th:only-of-type {\n",
       "        vertical-align: middle;\n",
       "    }\n",
       "\n",
       "    .dataframe tbody tr th {\n",
       "        vertical-align: top;\n",
       "    }\n",
       "\n",
       "    .dataframe thead th {\n",
       "        text-align: right;\n",
       "    }\n",
       "</style>\n",
       "<table border=\"1\" class=\"dataframe\">\n",
       "  <thead>\n",
       "    <tr style=\"text-align: right;\">\n",
       "      <th></th>\n",
       "      <th></th>\n",
       "      <th>monthly_revenue</th>\n",
       "    </tr>\n",
       "    <tr>\n",
       "      <th>month</th>\n",
       "      <th>plan</th>\n",
       "      <th></th>\n",
       "    </tr>\n",
       "  </thead>\n",
       "  <tbody>\n",
       "    <tr>\n",
       "      <th rowspan=\"2\" valign=\"top\">1</th>\n",
       "      <th>surf</th>\n",
       "      <td>40.00</td>\n",
       "    </tr>\n",
       "    <tr>\n",
       "      <th>ultimate</th>\n",
       "      <td>280.00</td>\n",
       "    </tr>\n",
       "    <tr>\n",
       "      <th rowspan=\"2\" valign=\"top\">2</th>\n",
       "      <th>surf</th>\n",
       "      <td>309.57</td>\n",
       "    </tr>\n",
       "    <tr>\n",
       "      <th>ultimate</th>\n",
       "      <td>490.00</td>\n",
       "    </tr>\n",
       "    <tr>\n",
       "      <th rowspan=\"2\" valign=\"top\">3</th>\n",
       "      <th>surf</th>\n",
       "      <td>1056.65</td>\n",
       "    </tr>\n",
       "    <tr>\n",
       "      <th>ultimate</th>\n",
       "      <td>896.00</td>\n",
       "    </tr>\n",
       "    <tr>\n",
       "      <th rowspan=\"2\" valign=\"top\">4</th>\n",
       "      <th>surf</th>\n",
       "      <td>2035.53</td>\n",
       "    </tr>\n",
       "    <tr>\n",
       "      <th>ultimate</th>\n",
       "      <td>1533.00</td>\n",
       "    </tr>\n",
       "    <tr>\n",
       "      <th rowspan=\"2\" valign=\"top\">5</th>\n",
       "      <th>surf</th>\n",
       "      <td>3667.37</td>\n",
       "    </tr>\n",
       "    <tr>\n",
       "      <th>ultimate</th>\n",
       "      <td>2051.00</td>\n",
       "    </tr>\n",
       "    <tr>\n",
       "      <th rowspan=\"2\" valign=\"top\">6</th>\n",
       "      <th>surf</th>\n",
       "      <td>4779.80</td>\n",
       "    </tr>\n",
       "    <tr>\n",
       "      <th>ultimate</th>\n",
       "      <td>3367.00</td>\n",
       "    </tr>\n",
       "    <tr>\n",
       "      <th rowspan=\"2\" valign=\"top\">7</th>\n",
       "      <th>surf</th>\n",
       "      <td>7583.56</td>\n",
       "    </tr>\n",
       "    <tr>\n",
       "      <th>ultimate</th>\n",
       "      <td>4242.00</td>\n",
       "    </tr>\n",
       "    <tr>\n",
       "      <th rowspan=\"2\" valign=\"top\">8</th>\n",
       "      <th>surf</th>\n",
       "      <td>10356.85</td>\n",
       "    </tr>\n",
       "    <tr>\n",
       "      <th>ultimate</th>\n",
       "      <td>5173.00</td>\n",
       "    </tr>\n",
       "    <tr>\n",
       "      <th rowspan=\"2\" valign=\"top\">9</th>\n",
       "      <th>surf</th>\n",
       "      <td>11304.67</td>\n",
       "    </tr>\n",
       "    <tr>\n",
       "      <th>ultimate</th>\n",
       "      <td>6195.00</td>\n",
       "    </tr>\n",
       "    <tr>\n",
       "      <th rowspan=\"2\" valign=\"top\">10</th>\n",
       "      <th>surf</th>\n",
       "      <td>15504.83</td>\n",
       "    </tr>\n",
       "    <tr>\n",
       "      <th>ultimate</th>\n",
       "      <td>7665.00</td>\n",
       "    </tr>\n",
       "    <tr>\n",
       "      <th rowspan=\"2\" valign=\"top\">11</th>\n",
       "      <th>surf</th>\n",
       "      <td>16415.21</td>\n",
       "    </tr>\n",
       "    <tr>\n",
       "      <th>ultimate</th>\n",
       "      <td>9107.00</td>\n",
       "    </tr>\n",
       "    <tr>\n",
       "      <th rowspan=\"2\" valign=\"top\">12</th>\n",
       "      <th>surf</th>\n",
       "      <td>22437.14</td>\n",
       "    </tr>\n",
       "    <tr>\n",
       "      <th>ultimate</th>\n",
       "      <td>11067.00</td>\n",
       "    </tr>\n",
       "  </tbody>\n",
       "</table>\n",
       "</div>"
      ],
      "text/plain": [
       "                monthly_revenue\n",
       "month plan                     \n",
       "1     surf                40.00\n",
       "      ultimate           280.00\n",
       "2     surf               309.57\n",
       "      ultimate           490.00\n",
       "3     surf              1056.65\n",
       "      ultimate           896.00\n",
       "4     surf              2035.53\n",
       "      ultimate          1533.00\n",
       "5     surf              3667.37\n",
       "      ultimate          2051.00\n",
       "6     surf              4779.80\n",
       "      ultimate          3367.00\n",
       "7     surf              7583.56\n",
       "      ultimate          4242.00\n",
       "8     surf             10356.85\n",
       "      ultimate          5173.00\n",
       "9     surf             11304.67\n",
       "      ultimate          6195.00\n",
       "10    surf             15504.83\n",
       "      ultimate          7665.00\n",
       "11    surf             16415.21\n",
       "      ultimate          9107.00\n",
       "12    surf             22437.14\n",
       "      ultimate         11067.00"
      ]
     },
     "execution_count": 30,
     "metadata": {},
     "output_type": "execute_result"
    }
   ],
   "source": [
    "Monthly_revenue_distribution = data.pivot_table(index=[\"month\", \"plan\"], values=\"monthly_revenue\", aggfunc= \"sum\")\n",
    "Monthly_revenue_distribution"
   ]
  },
  {
   "cell_type": "markdown",
   "id": "f3b3a24a",
   "metadata": {},
   "source": [
    "In January 2018, the Surf plan generated about 7 times lower of the sum of revenue the Ultimate plan generated for Mageline. However, in December 2018, the Surf plan generated more than twice the sum of revenue by the Ultimate plan."
   ]
  },
  {
   "cell_type": "code",
   "execution_count": 31,
   "id": "8ae7fc19",
   "metadata": {},
   "outputs": [
    {
     "data": {
      "image/png": "[encoded data removed]",
      "text/plain": [
       "<Figure size 576x432 with 1 Axes>"
      ]
     },
     "metadata": {
      "needs_background": "light"
     },
     "output_type": "display_data"
    }
   ],
   "source": [
    "surf=Monthly_revenue_distribution[Monthly_revenue_distribution.index.get_level_values(1)==\"surf\"].reset_index()\n",
    "ultimate= Monthly_revenue_distribution[Monthly_revenue_distribution.index.get_level_values(1)==\"ultimate\"].reset_index()\n",
    "fig, ax = plt.subplots()\n",
    "fig.set_size_inches(8,6)\n",
    "plt.plot(surf[\"month\"], surf[\"monthly_revenue\"],color=\"green\", label=\"Monthly Revenue - Surf\", )\n",
    "plt.plot(ultimate[\"month\"],ultimate[\"monthly_revenue\"], color=\"orange\", label=\"Monthly Revenue - Ultimate\")\n",
    "plt.legend()\n",
    "plt.title(\"Trend of Monthly Revenues for Megaline Plans\", fontdict={\"size\":12})\n",
    "plt.ylabel(\"Sum of revenue\", fontdict={\"size\":12})\n",
    "plt.xlabel(\"Months\", fontdict={\"size\":12})\n",
    "plt.show()"
   ]
  },
  {
   "cell_type": "markdown",
   "id": "11d0749e",
   "metadata": {},
   "source": [
    "From March 2018, the Surf plan continuously generated more monthly revenue than the Ultimate plan. "
   ]
  },
  {
   "cell_type": "code",
   "execution_count": 32,
   "id": "7ce241c0",
   "metadata": {},
   "outputs": [
    {
     "name": "stdout",
     "output_type": "stream",
     "text": [
      "Total revenue for surf plan in 2018 were: 95491.18 $\n"
     ]
    }
   ],
   "source": [
    "surf_revenue = round(Monthly_revenue_distribution[Monthly_revenue_distribution.index.get_level_values(1)==\"surf\"].sum(),2)[0]\n",
    "print(f'Total revenue for surf plan in 2018 were: {surf_revenue} $')"
   ]
  },
  {
   "cell_type": "code",
   "execution_count": 33,
   "id": "185584a6",
   "metadata": {},
   "outputs": [
    {
     "name": "stdout",
     "output_type": "stream",
     "text": [
      "Total revenue for ultimate plan in 2018 were: 52066.0 $\n"
     ]
    }
   ],
   "source": [
    "ultimate_revenue = round(Monthly_revenue_distribution[Monthly_revenue_distribution.index.get_level_values(1)==\"ultimate\"].sum(),2)[0]\n",
    "print(f'Total revenue for ultimate plan in 2018 were: {ultimate_revenue} $')"
   ]
  },
  {
   "cell_type": "markdown",
   "id": "6d09ef4f",
   "metadata": {},
   "source": [
    "Filtering surf plane dataframe"
   ]
  },
  {
   "cell_type": "code",
   "execution_count": 34,
   "id": "00ec7bbd",
   "metadata": {},
   "outputs": [],
   "source": [
    "surf_customers = data.query('plan == \"surf\"')"
   ]
  },
  {
   "cell_type": "code",
   "execution_count": 35,
   "id": "29dde4f0",
   "metadata": {},
   "outputs": [
    {
     "data": {
      "text/html": [
       "<div>\n",
       "<style scoped>\n",
       "    .dataframe tbody tr th:only-of-type {\n",
       "        vertical-align: middle;\n",
       "    }\n",
       "\n",
       "    .dataframe tbody tr th {\n",
       "        vertical-align: top;\n",
       "    }\n",
       "\n",
       "    .dataframe thead th {\n",
       "        text-align: right;\n",
       "    }\n",
       "</style>\n",
       "<table border=\"1\" class=\"dataframe\">\n",
       "  <thead>\n",
       "    <tr style=\"text-align: right;\">\n",
       "      <th></th>\n",
       "      <th>count</th>\n",
       "      <th>mean</th>\n",
       "      <th>std</th>\n",
       "      <th>min</th>\n",
       "      <th>25%</th>\n",
       "      <th>50%</th>\n",
       "      <th>75%</th>\n",
       "      <th>max</th>\n",
       "    </tr>\n",
       "  </thead>\n",
       "  <tbody>\n",
       "    <tr>\n",
       "      <th>user_id</th>\n",
       "      <td>1573.0</td>\n",
       "      <td>1242.755245</td>\n",
       "      <td>139.227939</td>\n",
       "      <td>1001.0</td>\n",
       "      <td>1120.00</td>\n",
       "      <td>1245.00</td>\n",
       "      <td>1358.00</td>\n",
       "      <td>1499.00</td>\n",
       "    </tr>\n",
       "    <tr>\n",
       "      <th>month</th>\n",
       "      <td>1573.0</td>\n",
       "      <td>9.182454</td>\n",
       "      <td>2.468199</td>\n",
       "      <td>1.0</td>\n",
       "      <td>8.00</td>\n",
       "      <td>10.00</td>\n",
       "      <td>11.00</td>\n",
       "      <td>12.00</td>\n",
       "    </tr>\n",
       "    <tr>\n",
       "      <th>gb_used</th>\n",
       "      <td>1573.0</td>\n",
       "      <td>16.670693</td>\n",
       "      <td>7.847522</td>\n",
       "      <td>0.0</td>\n",
       "      <td>12.00</td>\n",
       "      <td>17.00</td>\n",
       "      <td>21.00</td>\n",
       "      <td>70.00</td>\n",
       "    </tr>\n",
       "    <tr>\n",
       "      <th>call_duration</th>\n",
       "      <td>1573.0</td>\n",
       "      <td>404.762390</td>\n",
       "      <td>221.664397</td>\n",
       "      <td>0.0</td>\n",
       "      <td>255.47</td>\n",
       "      <td>401.76</td>\n",
       "      <td>543.68</td>\n",
       "      <td>1431.22</td>\n",
       "    </tr>\n",
       "    <tr>\n",
       "      <th>call_number</th>\n",
       "      <td>1573.0</td>\n",
       "      <td>59.811825</td>\n",
       "      <td>32.017989</td>\n",
       "      <td>0.0</td>\n",
       "      <td>39.00</td>\n",
       "      <td>60.00</td>\n",
       "      <td>79.00</td>\n",
       "      <td>205.00</td>\n",
       "    </tr>\n",
       "    <tr>\n",
       "      <th>message_number</th>\n",
       "      <td>1573.0</td>\n",
       "      <td>31.159568</td>\n",
       "      <td>33.566717</td>\n",
       "      <td>0.0</td>\n",
       "      <td>3.00</td>\n",
       "      <td>24.00</td>\n",
       "      <td>47.00</td>\n",
       "      <td>266.00</td>\n",
       "    </tr>\n",
       "    <tr>\n",
       "      <th>monthly_revenue</th>\n",
       "      <td>1573.0</td>\n",
       "      <td>60.706408</td>\n",
       "      <td>55.388042</td>\n",
       "      <td>20.0</td>\n",
       "      <td>20.00</td>\n",
       "      <td>40.36</td>\n",
       "      <td>80.36</td>\n",
       "      <td>590.37</td>\n",
       "    </tr>\n",
       "  </tbody>\n",
       "</table>\n",
       "</div>"
      ],
      "text/plain": [
       "                  count         mean         std     min      25%      50%  \\\n",
       "user_id          1573.0  1242.755245  139.227939  1001.0  1120.00  1245.00   \n",
       "month            1573.0     9.182454    2.468199     1.0     8.00    10.00   \n",
       "gb_used          1573.0    16.670693    7.847522     0.0    12.00    17.00   \n",
       "call_duration    1573.0   404.762390  221.664397     0.0   255.47   401.76   \n",
       "call_number      1573.0    59.811825   32.017989     0.0    39.00    60.00   \n",
       "message_number   1573.0    31.159568   33.566717     0.0     3.00    24.00   \n",
       "monthly_revenue  1573.0    60.706408   55.388042    20.0    20.00    40.36   \n",
       "\n",
       "                     75%      max  \n",
       "user_id          1358.00  1499.00  \n",
       "month              11.00    12.00  \n",
       "gb_used            21.00    70.00  \n",
       "call_duration     543.68  1431.22  \n",
       "call_number        79.00   205.00  \n",
       "message_number     47.00   266.00  \n",
       "monthly_revenue    80.36   590.37  "
      ]
     },
     "execution_count": 35,
     "metadata": {},
     "output_type": "execute_result"
    }
   ],
   "source": [
    "surf_customers.describe().transpose()"
   ]
  },
  {
   "cell_type": "markdown",
   "id": "92d870e9",
   "metadata": {},
   "source": [
    "On Average, a customer on the surf plan spends about 404 minutes on calls in a month with a standard deviation (sd) of about 221. The sd indicates the data points of customers on the surf plan are largely away from the mean. \n",
    "\n",
    "On average, a customer on the surf plan texts about 31 messages a month with a standard deviation of about 33.57 messages.\n",
    "\n",
    "A customer on the surf plan uses about 17 gigabytes of data in a month with standard deviation of about 7.8 gigabytes. This implies the data points with regards to usage of data on the surf plan are largely spread out. \n",
    "\n",
    "The average monthly revenue generated by a Surf plan client in a month is about 61 dollars with a sd of about 55 dollars."
   ]
  },
  {
   "cell_type": "markdown",
   "id": "e816c9af",
   "metadata": {},
   "source": [
    "Filtering ultimate plan dataframe\n",
    "\n"
   ]
  },
  {
   "cell_type": "code",
   "execution_count": 36,
   "id": "a1adef40",
   "metadata": {},
   "outputs": [],
   "source": [
    "ultimate_customers = data.query('plan == \"ultimate\"')"
   ]
  },
  {
   "cell_type": "code",
   "execution_count": 37,
   "id": "fa9cdb0e",
   "metadata": {},
   "outputs": [
    {
     "data": {
      "text/html": [
       "<div>\n",
       "<style scoped>\n",
       "    .dataframe tbody tr th:only-of-type {\n",
       "        vertical-align: middle;\n",
       "    }\n",
       "\n",
       "    .dataframe tbody tr th {\n",
       "        vertical-align: top;\n",
       "    }\n",
       "\n",
       "    .dataframe thead th {\n",
       "        text-align: right;\n",
       "    }\n",
       "</style>\n",
       "<table border=\"1\" class=\"dataframe\">\n",
       "  <thead>\n",
       "    <tr style=\"text-align: right;\">\n",
       "      <th></th>\n",
       "      <th>count</th>\n",
       "      <th>mean</th>\n",
       "      <th>std</th>\n",
       "      <th>min</th>\n",
       "      <th>25%</th>\n",
       "      <th>50%</th>\n",
       "      <th>75%</th>\n",
       "      <th>max</th>\n",
       "    </tr>\n",
       "  </thead>\n",
       "  <tbody>\n",
       "    <tr>\n",
       "      <th>user_id</th>\n",
       "      <td>720.0</td>\n",
       "      <td>1253.330556</td>\n",
       "      <td>150.915644</td>\n",
       "      <td>1000.0</td>\n",
       "      <td>1126.00</td>\n",
       "      <td>1241.500</td>\n",
       "      <td>1401.0000</td>\n",
       "      <td>1497.00</td>\n",
       "    </tr>\n",
       "    <tr>\n",
       "      <th>month</th>\n",
       "      <td>720.0</td>\n",
       "      <td>9.151389</td>\n",
       "      <td>2.558495</td>\n",
       "      <td>1.0</td>\n",
       "      <td>8.00</td>\n",
       "      <td>10.000</td>\n",
       "      <td>11.0000</td>\n",
       "      <td>12.00</td>\n",
       "    </tr>\n",
       "    <tr>\n",
       "      <th>gb_used</th>\n",
       "      <td>720.0</td>\n",
       "      <td>17.306944</td>\n",
       "      <td>7.670108</td>\n",
       "      <td>0.0</td>\n",
       "      <td>13.00</td>\n",
       "      <td>17.000</td>\n",
       "      <td>21.0000</td>\n",
       "      <td>46.00</td>\n",
       "    </tr>\n",
       "    <tr>\n",
       "      <th>call_duration</th>\n",
       "      <td>720.0</td>\n",
       "      <td>406.193083</td>\n",
       "      <td>227.246499</td>\n",
       "      <td>0.0</td>\n",
       "      <td>246.29</td>\n",
       "      <td>398.585</td>\n",
       "      <td>532.2275</td>\n",
       "      <td>1292.09</td>\n",
       "    </tr>\n",
       "    <tr>\n",
       "      <th>call_number</th>\n",
       "      <td>720.0</td>\n",
       "      <td>60.626389</td>\n",
       "      <td>33.242994</td>\n",
       "      <td>0.0</td>\n",
       "      <td>36.00</td>\n",
       "      <td>61.000</td>\n",
       "      <td>80.0000</td>\n",
       "      <td>191.00</td>\n",
       "    </tr>\n",
       "    <tr>\n",
       "      <th>message_number</th>\n",
       "      <td>720.0</td>\n",
       "      <td>37.551389</td>\n",
       "      <td>34.767179</td>\n",
       "      <td>0.0</td>\n",
       "      <td>7.00</td>\n",
       "      <td>30.000</td>\n",
       "      <td>61.0000</td>\n",
       "      <td>166.00</td>\n",
       "    </tr>\n",
       "    <tr>\n",
       "      <th>monthly_revenue</th>\n",
       "      <td>720.0</td>\n",
       "      <td>72.313889</td>\n",
       "      <td>11.395108</td>\n",
       "      <td>70.0</td>\n",
       "      <td>70.00</td>\n",
       "      <td>70.000</td>\n",
       "      <td>70.0000</td>\n",
       "      <td>182.00</td>\n",
       "    </tr>\n",
       "  </tbody>\n",
       "</table>\n",
       "</div>"
      ],
      "text/plain": [
       "                 count         mean         std     min      25%       50%  \\\n",
       "user_id          720.0  1253.330556  150.915644  1000.0  1126.00  1241.500   \n",
       "month            720.0     9.151389    2.558495     1.0     8.00    10.000   \n",
       "gb_used          720.0    17.306944    7.670108     0.0    13.00    17.000   \n",
       "call_duration    720.0   406.193083  227.246499     0.0   246.29   398.585   \n",
       "call_number      720.0    60.626389   33.242994     0.0    36.00    61.000   \n",
       "message_number   720.0    37.551389   34.767179     0.0     7.00    30.000   \n",
       "monthly_revenue  720.0    72.313889   11.395108    70.0    70.00    70.000   \n",
       "\n",
       "                       75%      max  \n",
       "user_id          1401.0000  1497.00  \n",
       "month              11.0000    12.00  \n",
       "gb_used            21.0000    46.00  \n",
       "call_duration     532.2275  1292.09  \n",
       "call_number        80.0000   191.00  \n",
       "message_number     61.0000   166.00  \n",
       "monthly_revenue    70.0000   182.00  "
      ]
     },
     "execution_count": 37,
     "metadata": {},
     "output_type": "execute_result"
    }
   ],
   "source": [
    "ultimate_customers.describe().transpose()"
   ]
  },
  {
   "cell_type": "markdown",
   "id": "161c3470",
   "metadata": {},
   "source": [
    "On Average, a customer on the ultimate plan spends about 406 minutes on calls in a month with a standard deviation (sd) of about 227. The sd indicates the data points of customers on the ultimate plan are largely away from the mean.\n",
    "\n",
    "On average, a customer on the ultimate plan texts about 38 messages a month with a standard deviation of about 35 messages.\n",
    "\n",
    "A customer on the ultimate plan uses about 17 gigabytes of data in a month with standard deviation of about 7.7 gigabytes. This implies the data points with regards to usage of data on the utlimate plan are largely spread out.\n",
    "\n",
    "The average monthly revenue generated by a Ultimate plan client in a month is about 72 dollars with a sd of about 11 dollars."
   ]
  },
  {
   "cell_type": "markdown",
   "id": "a909d107",
   "metadata": {},
   "source": [
    "### Ploting histograms"
   ]
  },
  {
   "cell_type": "markdown",
   "id": "0121e6ac",
   "metadata": {},
   "source": [
    "Histogram for call duration"
   ]
  },
  {
   "cell_type": "code",
   "execution_count": 38,
   "id": "1ba68156",
   "metadata": {},
   "outputs": [
    {
     "data": {
      "image/png": "[encoded data removed]",
      "text/plain": [
       "<Figure size 576x432 with 1 Axes>"
      ]
     },
     "metadata": {
      "needs_background": "light"
     },
     "output_type": "display_data"
    }
   ],
   "source": [
    "ultimate_customers[\"call_duration\"].plot(kind=\"hist\",label=\"ultimate\", density=True, figsize=(8,6),alpha=0.6)\n",
    "surf_customers[\"call_duration\"].plot(kind=\"hist\",label=\"Surf\", density=True, figsize=(8,6), alpha=0.6)\n",
    "plt.legend()\n",
    "plt.title(\"Density Histogram of Minutes Spent by Megaline Customers\", fontdict={\"size\":12})\n",
    "plt.xlabel(\"Total duration\", fontdict={\"size\":12})\n",
    "plt.ylabel(\"Density\", fontdict={\"size\":12})\n",
    "plt.show()"
   ]
  },
  {
   "cell_type": "markdown",
   "id": "09363608",
   "metadata": {},
   "source": [
    "Relatively, the behavior of customers on both the ultimate and surf plan on monthly minutes follow a similar trend. Majority of customers on both the ultimate and surf plan spend below 600 call minutes a month. The surf plan peaks around 400 call minutes while the ultimate plan peaks between 400 and 600 minutes. The distributions are both skewed a bit to the right (even though they look approximately normal)."
   ]
  },
  {
   "cell_type": "code",
   "execution_count": 39,
   "id": "17b81ea5",
   "metadata": {},
   "outputs": [
    {
     "data": {
      "image/png": "[encoded data removed]",
      "text/plain": [
       "<Figure size 576x432 with 1 Axes>"
      ]
     },
     "metadata": {
      "needs_background": "light"
     },
     "output_type": "display_data"
    }
   ],
   "source": [
    "fig, ax = plt.subplots()\n",
    "fig.set_size_inches(8,6)\n",
    "sns.boxplot(x=\"plan\", y=\"call_duration\", data =data, linewidth =2, ax=ax)\n",
    "plt.title(\"Boxplot of Minutes Spent by Megaline Customers\", fontdict={\"size\":12})\n",
    "plt.ylabel(\"Total duration\", fontdict={\"size\":12})\n",
    "plt.xlabel(\"Plan name\", fontdict={\"size\":12})\n",
    "plt.show()"
   ]
  },
  {
   "cell_type": "markdown",
   "id": "dafdce27",
   "metadata": {},
   "source": [
    "The plans have almost the same (or same) median values.\n",
    "\n",
    "Each plan has outliers. There are calls that lasted more than 1000 minutes for both Surf and Ultimate. The Surf plan has a call duration above 1400 minutes. "
   ]
  },
  {
   "cell_type": "markdown",
   "id": "f15f33a8",
   "metadata": {},
   "source": [
    "Histogram for total messages\n",
    "\n"
   ]
  },
  {
   "cell_type": "code",
   "execution_count": 40,
   "id": "31d5bcc4",
   "metadata": {},
   "outputs": [
    {
     "data": {
      "image/png": "[encoded data removed]",
      "text/plain": [
       "<Figure size 576x432 with 1 Axes>"
      ]
     },
     "metadata": {
      "needs_background": "light"
     },
     "output_type": "display_data"
    }
   ],
   "source": [
    "ultimate_customers[\"message_number\"].plot(kind=\"hist\",label=\"ultimate\", density=True, figsize=(8,6),alpha=0.6)\n",
    "surf_customers[\"message_number\"].plot(kind=\"hist\",label=\"Surf\", density=True, figsize=(8,6), alpha=0.6)\n",
    "plt.title(\"Density Histogram of Messages Sent by Megaline Customers\", fontdict={\"size\":12})\n",
    "plt.legend()\n",
    "plt.xlabel(\"Total messages\", fontdict={\"size\":12})\n",
    "plt.ylabel(\"Density\", fontdict={\"size\":12})\n",
    "plt.show()"
   ]
  },
  {
   "cell_type": "markdown",
   "id": "21ba7c41",
   "metadata": {},
   "source": [
    "Again, in relative terms, customers on the surf plan behave similar to customers on the ultimate plan with regards to text messages. Majority of the customers text less. The distributions are positively skewed."
   ]
  },
  {
   "cell_type": "markdown",
   "id": "3a085d37",
   "metadata": {},
   "source": [
    "Plotting boxplot for each plan's total messages\n",
    "\n"
   ]
  },
  {
   "cell_type": "code",
   "execution_count": 41,
   "id": "7dfcbb6a",
   "metadata": {},
   "outputs": [
    {
     "data": {
      "image/png": "[encoded data removed]",
      "text/plain": [
       "<Figure size 576x432 with 1 Axes>"
      ]
     },
     "metadata": {
      "needs_background": "light"
     },
     "output_type": "display_data"
    }
   ],
   "source": [
    "fig, ax = plt.subplots()\n",
    "fig.set_size_inches(8,6)\n",
    "sns.boxplot(x=\"plan\", y=\"message_number\", data =data, linewidth =2,ax=ax)\n",
    "plt.title(\"Boxplot of Texts Sent by Megaline Customers\", fontdict={\"size\":12})\n",
    "plt.ylabel(\"Total messages\", fontdict={\"size\":12})\n",
    "plt.xlabel(\"Plan name\", fontdict={\"size\":12})\n",
    "plt.show()"
   ]
  },
  {
   "cell_type": "markdown",
   "id": "1512cfe0",
   "metadata": {},
   "source": [
    " The ultimate plan has a higher interquartile range, i.e. wider middle half values of total messages, and a higher median compared to the surf plan. The ultimate plan has comparatively few outliers with regards to messages sent. The ouliers are between 140 and 200 messages for the ultimate plan. The surf plan has a lot of outliers from about 110 messages to more than 250 messages."
   ]
  },
  {
   "cell_type": "markdown",
   "id": "6ed8cfe3",
   "metadata": {},
   "source": [
    "Histogram for data usage\n",
    "\n"
   ]
  },
  {
   "cell_type": "code",
   "execution_count": 42,
   "id": "c47add2e",
   "metadata": {},
   "outputs": [
    {
     "data": {
      "image/png": "[encoded data removed]",
      "text/plain": [
       "<Figure size 576x432 with 1 Axes>"
      ]
     },
     "metadata": {
      "needs_background": "light"
     },
     "output_type": "display_data"
    }
   ],
   "source": [
    "ultimate_customers[\"gb_used\"].plot(kind=\"hist\",label=\"ultimate\", density=True, figsize=(8,6),alpha=0.6)\n",
    "surf_customers[\"gb_used\"].plot(kind=\"hist\",label=\"Surf\", density=True, figsize=(8,6), alpha=0.6)\n",
    "plt.title(\"Density Histogram of Data Usage by Megaline Customers\", fontdict={\"size\":12})\n",
    "plt.legend()\n",
    "plt.xlabel(\"Total messages\", fontdict={\"size\":12})\n",
    "plt.ylabel(\"Density\", fontdict={\"size\":12})\n",
    "plt.show()"
   ]
  },
  {
   "cell_type": "markdown",
   "id": "29fb7d78",
   "metadata": {},
   "source": [
    "Like the other packages, considering data usage, customers on the surt plan behaves similar relative to customers on the ultimate plan. The peak of data usage are both around 20 gigabytes. The distributions are both approximately normal."
   ]
  },
  {
   "cell_type": "markdown",
   "id": "227c143c",
   "metadata": {},
   "source": [
    "Plotting boxplot for each plan's data usage\n",
    "\n"
   ]
  },
  {
   "cell_type": "code",
   "execution_count": 43,
   "id": "0d8b8c3b",
   "metadata": {},
   "outputs": [
    {
     "data": {
      "image/png": "[encoded data removed]",
      "text/plain": [
       "<Figure size 576x432 with 1 Axes>"
      ]
     },
     "metadata": {
      "needs_background": "light"
     },
     "output_type": "display_data"
    }
   ],
   "source": [
    "fig, ax = plt.subplots()\n",
    "fig.set_size_inches(8,6)\n",
    "sns.boxplot(x=\"plan\", y=\"gb_used\", data =data, linewidth =2, ax=ax)\n",
    "plt.title(\"Boxplot of Data Usage by Megaline Customers\", fontdict={\"size\":12})\n",
    "plt.ylabel(\"Total data usage\", fontdict={\"size\":12})\n",
    "plt.xlabel(\"Plan name\", fontdict={\"size\":12})\n",
    "plt.show()"
   ]
  },
  {
   "cell_type": "markdown",
   "id": "6aef8555",
   "metadata": {},
   "source": [
    "Both plans have a similar median. The Surf plan has more outliers than the ultimate plan. The outliers for the ultimate plan falls between about 35 and 50 gigabytes of data. The outliers for the Surf plan ranges from about 35 to more than 70 gigabytes of data."
   ]
  },
  {
   "cell_type": "markdown",
   "id": "2695925f",
   "metadata": {},
   "source": [
    "### Determining how many user exceed the plan limit"
   ]
  },
  {
   "cell_type": "code",
   "execution_count": 44,
   "id": "086dd794",
   "metadata": {},
   "outputs": [
    {
     "name": "stdout",
     "output_type": "stream",
     "text": [
      "Percentage of surf customes that exceed the call using limit: 0.3076923076923077\n"
     ]
    }
   ],
   "source": [
    "# determining the percentage of customes that exceed the limit\n",
    "\n",
    "print(\"Percentage of surf customes that exceed the call using limit:\", (surf_customers[\"call_duration\"] > 500).mean())"
   ]
  },
  {
   "cell_type": "code",
   "execution_count": 45,
   "id": "621f837e",
   "metadata": {},
   "outputs": [
    {
     "name": "stdout",
     "output_type": "stream",
     "text": [
      "Percentage of ultimate customes that exceed the call using limit: 0.0\n"
     ]
    }
   ],
   "source": [
    "# determining the percentage of customes that exceed the limit\n",
    "\n",
    "print(\"Percentage of ultimate customes that exceed the call using limit:\", (ultimate_customers[\"call_duration\"] > 3000).mean())"
   ]
  },
  {
   "cell_type": "code",
   "execution_count": 46,
   "id": "70e33968",
   "metadata": {},
   "outputs": [
    {
     "name": "stdout",
     "output_type": "stream",
     "text": [
      "Percentage of surf customes that exceed the gigabyte using limit: 0.5791481246026701\n"
     ]
    }
   ],
   "source": [
    "# determining the percentage of customes that exceed the limit\n",
    "\n",
    "print(\"Percentage of surf customes that exceed the gigabyte using limit:\",(surf_customers[\"gb_used\"] > 15).mean())"
   ]
  },
  {
   "cell_type": "code",
   "execution_count": 47,
   "id": "9be6c64f",
   "metadata": {},
   "outputs": [
    {
     "name": "stdout",
     "output_type": "stream",
     "text": [
      "Percentage of ultimate customes that exceed the gigabyte using limit: 0.05694444444444444\n"
     ]
    }
   ],
   "source": [
    "# determining the percentage of customes that exceed the limit\n",
    "\n",
    "print(\"Percentage of ultimate customes that exceed the gigabyte using limit:\", (ultimate_customers[\"gb_used\"] > 30).mean())"
   ]
  },
  {
   "cell_type": "code",
   "execution_count": 48,
   "id": "aefe2f48",
   "metadata": {},
   "outputs": [
    {
     "name": "stdout",
     "output_type": "stream",
     "text": [
      "Percentage of surf customes that exceed the message using limit: 0.2161474888747616\n"
     ]
    }
   ],
   "source": [
    "# determining the percentage of customes that exceed the limit\n",
    "\n",
    "print(\"Percentage of surf customes that exceed the message using limit:\", (surf_customers[\"message_number\"] > 50).mean())"
   ]
  },
  {
   "cell_type": "code",
   "execution_count": 49,
   "id": "77ae1d40",
   "metadata": {},
   "outputs": [
    {
     "name": "stdout",
     "output_type": "stream",
     "text": [
      "Percentage of ultimate customes that exceed the gigabyte using limit: 0.0\n"
     ]
    }
   ],
   "source": [
    "# determining the percentage of customes that exceed the limit\n",
    "\n",
    "print(\"Percentage of ultimate customes that exceed the gigabyte using limit:\", (ultimate_customers[\"message_number\"] > 1000).mean())"
   ]
  },
  {
   "cell_type": "markdown",
   "id": "549203c4",
   "metadata": {},
   "source": [
    "### Interim Conclusion\n",
    "\n",
    "the users of the Surf plan and the users of the Ultimate plan is very similar, they use in average the same minutes, messages and volume of data per month. The difference is that the users of the Ultimate plan almost never have exceeded the monthly limit, while the users of Surf plan exceeded the minutes limit 31% of the time, the message limit 22% of the time and the GB limit 58% of the time."
   ]
  },
  {
   "cell_type": "markdown",
   "id": "8e8dada9",
   "metadata": {},
   "source": [
    "# Step 4. Test the hypotheses"
   ]
  },
  {
   "cell_type": "markdown",
   "id": "70d5db82",
   "metadata": {},
   "source": [
    "### Hypothesis test 1\n",
    "#### Claim: The average revenue from users of Ultimate and Surf calling plans differs"
   ]
  },
  {
   "cell_type": "markdown",
   "id": "c04fa1d7",
   "metadata": {},
   "source": [
    "Previewing revenue distributions\n",
    "\n"
   ]
  },
  {
   "cell_type": "code",
   "execution_count": 50,
   "id": "c648d9c2",
   "metadata": {},
   "outputs": [
    {
     "data": {
      "image/png": "[encoded data removed]",
      "text/plain": [
       "<Figure size 576x432 with 1 Axes>"
      ]
     },
     "metadata": {
      "needs_background": "light"
     },
     "output_type": "display_data"
    }
   ],
   "source": [
    "ultimate_customers[\"monthly_revenue\"].plot(kind=\"hist\",label=\"Ultimate\", density=True, figsize=(8,6),alpha=0.6)\n",
    "surf_customers[\"monthly_revenue\"].plot(kind=\"hist\",label=\"Surf\", density=True, figsize=(8,6), alpha=0.6)\n",
    "plt.title(\"Density Histogram of Revenue Generated by Megaline Customers\", fontdict={\"size\":12})\n",
    "plt.legend()\n",
    "plt.xlabel(\"Monthly revenue\", fontdict={\"size\":12})\n",
    "plt.ylabel(\"Density\", fontdict={\"size\":12})\n",
    "plt.show()"
   ]
  },
  {
   "cell_type": "markdown",
   "id": "9947d44e",
   "metadata": {},
   "source": [
    "### Test for normality "
   ]
  },
  {
   "cell_type": "markdown",
   "id": "dfa5ce97",
   "metadata": {},
   "source": [
    "We can state the following hypotheses:\n",
    "\n",
    "- H0 - The distribution for Surf revenue users is a normal distribution\n",
    "\n",
    "- H1 - The distribution for Surf revenue users is not a normal distribution\n",
    "\n",
    "We can test these hypotheses using the Shapiro-Wilk Test. \n"
   ]
  },
  {
   "cell_type": "code",
   "execution_count": 51,
   "id": "40a27c3b",
   "metadata": {},
   "outputs": [
    {
     "name": "stdout",
     "output_type": "stream",
     "text": [
      "We reject the null hypothesis: the data are not normal distribuited\n"
     ]
    }
   ],
   "source": [
    "# normality test \n",
    "#Shapiro-Wilk Test\n",
    "# null hypotesis = normaly distribuited\n",
    "stat, pvalue = st.shapiro(surf_customers['monthly_revenue'])\n",
    "alpha = 0.05\n",
    "if pvalue < alpha:\n",
    "    print(\"We reject the null hypothesis: the data are not normal distribuited\")  \n",
    "else:\n",
    "    print(\"We can't reject the null hypothesis: the data are normally distribuited\") "
   ]
  },
  {
   "cell_type": "markdown",
   "id": "d6226eaf",
   "metadata": {},
   "source": [
    "The revenue streams are not normally distributed and the samples are unpaired. Therefore, we can use Mann-Whitney U to test if the sample distributions are the same.\n",
    "\n",
    "Hypotheses:\n",
    "\n",
    "- H0: The average revenue from users of Ultimate and Surf calling plans are the same\n",
    "\n",
    "- H1: The average revenue from users of Ultimate and Surf calling plans differs"
   ]
  },
  {
   "cell_type": "code",
   "execution_count": 52,
   "id": "2dafd33b",
   "metadata": {},
   "outputs": [
    {
     "name": "stdout",
     "output_type": "stream",
     "text": [
      "pvalue: 1.9121793747947493e-48\n",
      "We reject the null hypothesis: the average revenue from users of Ultimate and Surf calling plans differs\n"
     ]
    }
   ],
   "source": [
    "#Mann-Whitney U test\n",
    "# null hypothesis mean are equal\n",
    "stat, pvalue = st.mannwhitneyu(ultimate_customers['monthly_revenue'], surf_customers['monthly_revenue'])\n",
    "alpha = 0.05\n",
    "print(\"pvalue:\", pvalue)\n",
    "\n",
    "if pvalue < alpha:\n",
    "    print(\"We reject the null hypothesis: the average revenue from users of Ultimate and Surf calling plans differs\")  \n",
    "else:\n",
    "    print(\"We can't reject the null hypothesis: the average revenue from users of Ultimate and Surf calling plans are the same\") "
   ]
  },
  {
   "cell_type": "markdown",
   "id": "c1d5b9bf",
   "metadata": {},
   "source": [
    "**The test provides evidence to support the claim that the average revenue from users of Ultimate and Surf calling plans differs**\n",
    "\n"
   ]
  },
  {
   "cell_type": "markdown",
   "id": "93f4bc4b",
   "metadata": {},
   "source": [
    "### Hypothesis test 2\n",
    "\n",
    "- H0: The average revenue from users in NY-NJ area is not different from that of the users from other regions.\n",
    "\n",
    "- H1: The average revenue from users in NY-NJ area is different from that of the users from other regions."
   ]
  },
  {
   "cell_type": "code",
   "execution_count": 53,
   "id": "8d5fd93d",
   "metadata": {},
   "outputs": [],
   "source": [
    "#  creating a function to classify customes based on city. \n",
    "def area_func(city):\n",
    "    \n",
    "    if (\"NY\" in city) or (\"NJ\" in city):\n",
    "        return \"NY NJ\"\n",
    "    else:\n",
    "        return \"Others\"\n",
    "    \n",
    "# new columns [\"purpose_category\"]\n",
    "data[\"area\"] = data[\"city\"].apply(area_func)"
   ]
  },
  {
   "cell_type": "code",
   "execution_count": 54,
   "id": "fe5081a2",
   "metadata": {},
   "outputs": [],
   "source": [
    "ny_nj_customers = data.query('area == \"NY NJ\"')"
   ]
  },
  {
   "cell_type": "code",
   "execution_count": 55,
   "id": "d5d21378",
   "metadata": {},
   "outputs": [],
   "source": [
    "other_areas_customers = data.query('area == \"Others\"')"
   ]
  },
  {
   "cell_type": "markdown",
   "id": "a0aa54a8",
   "metadata": {},
   "source": [
    "Previewing revenue distributions\n"
   ]
  },
  {
   "cell_type": "code",
   "execution_count": 56,
   "id": "6a942e6d",
   "metadata": {},
   "outputs": [
    {
     "data": {
      "image/png": "[encoded data removed]",
      "text/plain": [
       "<Figure size 576x432 with 1 Axes>"
      ]
     },
     "metadata": {
      "needs_background": "light"
     },
     "output_type": "display_data"
    }
   ],
   "source": [
    "ny_nj_customers[\"monthly_revenue\"].plot(kind=\"hist\",label=\"Ultimate\", density=True, figsize=(8,6),alpha=0.6)\n",
    "other_areas_customers[\"monthly_revenue\"].plot(kind=\"hist\",label=\"Surf\", density=True, figsize=(8,6), alpha=0.6)\n",
    "plt.title(\"Density Histogram of Revenue Generated by Megaline Customers\", fontdict={\"size\":12})\n",
    "plt.legend()\n",
    "plt.xlabel(\"Monthly revenue\", fontdict={\"size\":12})\n",
    "plt.ylabel(\"Density\", fontdict={\"size\":12})\n",
    "plt.show()"
   ]
  },
  {
   "cell_type": "markdown",
   "id": "4b5287cd",
   "metadata": {},
   "source": [
    "### Test for normality"
   ]
  },
  {
   "cell_type": "markdown",
   "id": "15aa5aee",
   "metadata": {},
   "source": [
    "We can state the following hypotheses:\n",
    "- H0 - The distribution for other area users revenue is a normal distribution \n",
    "- H1 - The distribution for other area users revenue is not a normal distribution\n",
    "\n",
    "and use a Shapiro-Wilk Test to test them"
   ]
  },
  {
   "cell_type": "code",
   "execution_count": 57,
   "id": "965d1295",
   "metadata": {},
   "outputs": [
    {
     "name": "stdout",
     "output_type": "stream",
     "text": [
      "We reject the null hypothesis: the data are not normal distribuited\n"
     ]
    }
   ],
   "source": [
    "# normality test \n",
    "#Shapiro-Wilk Test\n",
    "# null hypotesis = normaly distribuited\n",
    "stat, pvalue = st.shapiro(other_areas_customers['monthly_revenue'])\n",
    "alpha = 0.05\n",
    "if pvalue < alpha:\n",
    "    print(\"We reject the null hypothesis: the data are not normal distribuited\")  \n",
    "else:\n",
    "    print(\"We can't reject the null hypothesis: the data are normally distribuited\") "
   ]
  },
  {
   "cell_type": "markdown",
   "id": "63e0a777",
   "metadata": {},
   "source": [
    "The revenue streams are not normally distributed and the samples are unpaired. Therefore, we can use Mann-Whitney U to test if the sample distributions are the same."
   ]
  },
  {
   "cell_type": "code",
   "execution_count": 58,
   "id": "f2bbab78",
   "metadata": {},
   "outputs": [
    {
     "name": "stdout",
     "output_type": "stream",
     "text": [
      "pvalue: 0.002070527266724031\n",
      "We reject the null hypothesis: H1: The average revenue from users in NY-NJ area is different from that of the users from other regions.\n"
     ]
    }
   ],
   "source": [
    "#Mann-Whitney U test\n",
    "# null hypothesis mean are equal\n",
    "stat, pvalue = st.mannwhitneyu(ny_nj_customers['monthly_revenue'], other_areas_customers['monthly_revenue'])\n",
    "alpha = 0.05\n",
    "print(\"pvalue:\", pvalue)\n",
    "\n",
    "if pvalue < alpha:\n",
    "    print(\"We reject the null hypothesis: H1: The average revenue from users in NY-NJ area is different from that of the users from other regions.\")  \n",
    "else:\n",
    "    print(\"We can't reject the null hypothesis: The average revenue from users in NY-NJ area is not different from that of the users from other regions.\") "
   ]
  },
  {
   "cell_type": "markdown",
   "id": "30cfbad0",
   "metadata": {},
   "source": [
    "## Conclusion\n",
    "\n",
    "The goal of this project is to detrmine if the average revenue from users of Ultimate and Surf calling plans differs and if the average revenue from users in NY-NJ area is different from that of the users from other regions. I started to determine the mean for each group of users:\n",
    "\n",
    "- Surf user revenue mean: 60.71\n",
    "- Ultimate user revenue mean: 72.31\n",
    "- NY-Nj are user revenue mean: 61.36\n",
    "- Others area user revnue mean: 65.16\n",
    "\n",
    "we can see that the average revenue is different for each group, but to answer the questions, is it not enough to simple compare these numbers, we need to understand if these differences are statistically significant.\n",
    "\n",
    "I started studing the difference between the average revenue from users of Ultimate and Surf calling plans. \n",
    "\n",
    "I formulated the null hypothesis H₀:  \n",
    "\n",
    "**The means of the two populations are equal to each other.**\n",
    "\n",
    "and the alternative hypothesis, H₁, based on H₀:\n",
    "\n",
    "**The means of the two populations are not equal to each other.**\n",
    "\n",
    "Our test is going to determine which of this hyphotesis can be rejected and which can not be rejected. \n",
    "\n",
    "We are going to determine the **p-value**. The p-value is the probability of getting a result at least as extreme as the one we are considering, assuming that the null hypothesis is correct. \n",
    "\n",
    "In other words, we assume that the means of the two populations are equal, but when we select two samples from the populations the means of these two samples are different. The p-value tells us if this difference is due to the randomness introduced by the sampling, or if this difference is statistically significant. \n",
    "A high p-value tells us that there is a high probability that the difference is due to randomness. A low p-value tells us that is unlikely that the difference is due to the sampling.\n",
    "\n",
    "When we have the p-value that is a value that ranges from 0 to 1, we are going to compare it to the level of significance we choose for our test, which we call **alpha**. In this project, I chose an alpha equal to 0.05. If the p-value is less than alpha, means that we can reject the null hypothesis because the means of the two samples are different and this difference is statistically significant. \n",
    "\n",
    "In our project, we have already determined that the average revenue from users of Ultimate is different from the average revenue from users of Surf. Our test is going to tell us if this difference is random, in this case, we would have a high p-value or if is statistically significant, and in this case, the p-value would be smaller than alpha.  \n",
    "\n",
    "Before testing these hypotheses, we need to determine if the distribution of the population is a normal distribution. If the population has a normal distribution, we can test the hypothesis using the **Student´s T-Test**, if not, we can use the **Mann-Whitney U-Test**.\n",
    "\n",
    "To test if the population is normally distributed, we are going to formulate the following hypothesis and then test them using the **Shapiro-Wilk Test**:\n",
    "\n",
    "null hypothesis H₀:  \n",
    "\n",
    "**The population is normally distributed.**\n",
    "\n",
    "and the alternative hypothesis, H₁, based on H₀:\n",
    "\n",
    "**The population is normally distributed.**\n",
    "\n",
    "The result of the test is \"We reject the null hypothesis\".\n",
    "\n",
    "**The population is not normally distributed and to test our hypothesis on the mean of the populations, we use the Mann-Whitney U-Test.**\n",
    "\n",
    "Now we can test the hypothesi on the mean of the population: \n",
    "\n",
    "null hypothesis H₀:  \n",
    "\n",
    "**The means of the two populations are equal to each other.**\n",
    "\n",
    "and the alternative hypothesis, H₁, based on H₀:\n",
    "\n",
    "**The means of the two populations are not equal to each other.**\n",
    "\n",
    "The result of the test is \"We reject the null hypothesis\". **We are rejecting the hypothesis that the average revenue from users of Ultimate is equal to the average revenue of Surf calling plans.** We can conclude by saying that the Ultimate plan brings in more revenue and the company should invest the advertising budget on this plan.\n",
    "\n",
    "I did the same test also for the average revenue from users in NY-NJ area and the average revenue of the users from other regions. This time the result is \"We can't reject the null hypothesis\". This means that **we can not reject the hypothesis that the average revenue from users in NY-NJ area is equal to the average revenue of the users from other regions.**"
   ]
  },
  {
   "cell_type": "markdown",
   "id": "aff16789",
   "metadata": {},
   "source": [
    "# Step 5. Write an overall conclusion"
   ]
  },
  {
   "cell_type": "markdown",
   "id": "064a9389",
   "metadata": {},
   "source": [
    "In this project we analyzed the customers´behavior of a telecom operator that offers two prepaid plans, Surf and Ultimate. The goal was to determine which prepaid plan brings in more revenue.\n",
    "\n",
    "I started my analysis studing the minutes, texts, and volume of data the users of each plan require per month and ploting histograms for their distribution.\n",
    "\n",
    "Regarding the **internet usage**, I determined that the average monthly Gb usage for Surf customers is `16.17` with a standard deviation of `7.82`, while for the Ultimate customers the mean is `16.81` with a standar deviation of `7.66`. \n",
    "\n",
    "Regarding the **amount of calls and their duration**, I determined that the users of Surf plan make an average of `59.81` calls per month and in average they use `404.76` minutes per month; the respective standard deviations are `221.59` and `32.01`. We have similar values also for the users of Ultimate plan, in average they do `60.63` calls per month and they use `406.19` minutes per month in average; he respective standard deviations are `227.09` and `33.22`. \n",
    "\n",
    "Regarding the **message**, I detrmined that the users of Surf plans sent in average `31.16` messages per month and the users of Ultimate plan `37.55`. \n",
    "\n",
    "We can see that the behavior of the users of the Surf plan and the users of the Ultimate plan is very similar, they use in average the same minutes, messages and volume of data per month. The difference is that the users of the Ultimate plan almost never have exceeded the monthly limit, while the users of Surf plan exceeded the minutes limit 31% of the time, the message limit 22% of the time and the GB limit 58% of the time. So, even though the two groups make very similar use of the mobile phone, the revenues from the two groups are quite different.\n",
    "\n",
    "I detrmined the average revenue from users of Ultimate and the average revenue form user of Surf plan:\n",
    "\n",
    "\n",
    "- Average Surf user revenue: 60.71 \n",
    "- Average Ultimate user revenue : 72.31\n",
    "\n",
    "\n",
    "We saw that the Ultimate users bring in more revenue, but before confirming this we had to test if this difference is statistically significant.\n",
    "\n",
    "To do so, I used the Mann-Whitney U-Test, I formuled two alternative hypotheses: \n",
    "\n",
    "I formulated the null hypothesis H₀:  \n",
    "\n",
    "**The means of the two populations are equal to each other.**\n",
    "\n",
    "and the alternative hypothesis, H₁, based on H₀:\n",
    "\n",
    "**The means of the two populations are not equal to each other.**\n",
    "\n",
    "The result of the test was that **we reject the null hypothesis** and this confirm that the Ultimate plan brings in more revenue and the company should invest the advertising budget on this plan.\n",
    "\n",
    "I did the same test also for the average revenue from users in NY-NJ area and the average revenue of the users from other regions. This time the result is \"We can't reject the null hypothesis\". This means that **we can not reject the hypothesis that the average revenue from users in NY-NJ area is equal to the average revenue of the users from other regions.** There is not significat difference between the customers of this two different areas. "
   ]
  }
 ],
 "metadata": {
  "kernelspec": {
   "display_name": "Python 3 (ipykernel)",
   "language": "python",
   "name": "python3"
  },
  "language_info": {
   "codemirror_mode": {
    "name": "ipython",
    "version": 3
   },
   "file_extension": ".py",
   "mimetype": "text/x-python",
   "name": "python",
   "nbconvert_exporter": "python",
   "pygments_lexer": "ipython3",
   "version": "3.9.12"
  }
 },
 "nbformat": 4,
 "nbformat_minor": 5
}
